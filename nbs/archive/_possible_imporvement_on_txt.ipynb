{
 "cells": [
  {
   "cell_type": "code",
   "execution_count": null,
   "metadata": {},
   "outputs": [
    {
     "name": "stderr",
     "output_type": "stream",
     "text": [
      "/home/tako/dev/env37/lib/python3.7/site-packages/pandas/compat/__init__.py:85: UserWarning: Could not import the lzma module. Your installed Python is incomplete. Attempting to use lzma compression will result in a RuntimeError.\n",
      "  warnings.warn(msg)\n"
     ]
    }
   ],
   "source": [
    "from fastai.torch_basics import *\n",
    "from fastai.data.all import *\n",
    "from fastai.text.core import *\n",
    "from fastai.text.data import *"
   ]
  },
  {
   "cell_type": "code",
   "execution_count": null,
   "metadata": {},
   "outputs": [],
   "source": [
    "\n",
    "@delegates()\n",
    "class MyDataLoader(TfmdDL):\n",
    "    def __init__(self, dataset,**kwargs):        \n",
    "        super().__init__(dataset=dataset, **kwargs)\n",
    "\n"
   ]
  },
  {
   "cell_type": "code",
   "execution_count": null,
   "metadata": {},
   "outputs": [
    {
     "name": "stdout",
     "output_type": "stream",
     "text": [
      "(tensor([0, 1]), tensor([1, 2]))\n",
      "(tensor([2, 3]), tensor([3, 4]))\n",
      "(tensor([4, 5]), tensor([5, 6]))\n",
      "(tensor([6, 7]), tensor([7, 8]))\n",
      "(tensor([8, 9]), tensor([ 9, 10]))\n",
      "(tensor([10, 11]), tensor([11, 12]))\n",
      "(tensor([12, 13]), tensor([13, 14]))\n",
      "(tensor([14, 15]), tensor([15, 16]))\n",
      "(tensor([16, 17]), tensor([17, 18]))\n",
      "(tensor([18, 19]), tensor([19, 20]))\n",
      "(tensor([20, 21]), tensor([21, 22]))\n",
      "(tensor([22, 23]), tensor([23, 24]))\n",
      "(tensor([24, 25]), tensor([25, 26]))\n"
     ]
    }
   ],
   "source": [
    "bs,sl = 4,3\n",
    "ints = [(i,i+1) for i in range(26)]\n",
    "dl = MyDataLoader(ints, bs = 2)\n",
    "for o in dl:\n",
    "    print(o)"
   ]
  },
  {
   "cell_type": "code",
   "execution_count": null,
   "metadata": {},
   "outputs": [],
   "source": []
  }
 ],
 "metadata": {
  "kernelspec": {
   "display_name": "env37",
   "language": "python",
   "name": "env37"
  }
 },
 "nbformat": 4,
 "nbformat_minor": 4
}
