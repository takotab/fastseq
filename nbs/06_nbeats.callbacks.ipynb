{
 "cells": [
  {
   "cell_type": "code",
   "execution_count": null,
   "metadata": {},
   "outputs": [],
   "source": [
    "# default_exp nbeats.callbacks"
   ]
  },
  {
   "cell_type": "code",
   "execution_count": null,
   "metadata": {},
   "outputs": [
    {
     "name": "stdout",
     "output_type": "stream",
     "text": [
      "The autoreload extension is already loaded. To reload it, use:\n",
      "  %reload_ext autoreload\n"
     ]
    },
    {
     "name": "stderr",
     "output_type": "stream",
     "text": [
      "/Users/beitnerjan/opt/anaconda3/lib/python3.7/importlib/__init__.py:169: TqdmExperimentalWarning: Using `tqdm.autonotebook.tqdm` in notebook mode. Use `tqdm.tqdm` instead to force console mode (e.g. in jupyter console)\n",
      "  _bootstrap._exec(spec, module)\n"
     ]
    }
   ],
   "source": [
    "# hide\n",
    "import sys\n",
    "\n",
    "sys.path.append(\"..\")\n",
    "import pandas as pd\n",
    "%load_ext autoreload\n",
    "%autoreload 2"
   ]
  },
  {
   "cell_type": "markdown",
   "metadata": {},
   "source": [
    "# N-Beats Callbacks\n",
    "\n",
    "> A basic architecture for time series forecasting.\n",
    "\n",
    "\n",
    "The approach is based on https://arxiv.org/abs/1905.10437\n"
   ]
  },
  {
   "cell_type": "code",
   "execution_count": null,
   "metadata": {},
   "outputs": [],
   "source": [
    "# hide\n",
    "from nbdev.showdoc import *\n",
    "from fastcore.test import *"
   ]
  },
  {
   "cell_type": "code",
   "execution_count": null,
   "metadata": {},
   "outputs": [],
   "source": [
    "#export\n",
    "from fastcore.utils import *\n",
    "from fastcore.imports import *\n",
    "from fastai.basics import *\n",
    "from fastai.callback.hook import num_features_model\n",
    "from fastai.callback.all import *\n",
    "from fastai.torch_core import *\n",
    "from torch.autograd import Variable\n",
    "from fastseq.all import *\n",
    "\n",
    "from fastseq.nbeats.model import *"
   ]
  },
  {
   "cell_type": "code",
   "execution_count": null,
   "metadata": {},
   "outputs": [],
   "source": [
    "# export\n",
    "def CombinedLoss(loss_func, lookback, ratio = [1,1]):\n",
    "    def _inner(pred, truth, *args, **kwargs):\n",
    "        if len(pred.shape) == 2:\n",
    "            pred = pred[:,None,:]\n",
    "            truth = truth[:,None,:]\n",
    "        if kwargs.get('reduction', 'mean') == 'none':\n",
    "            loss = torch.zeros_like(pred)\n",
    "            loss[:,:,:lookback] += loss_func(pred[:,:,:lookback],truth[:,:,:lookback], *args, **kwargs) * ratio[0]\n",
    "            loss[:,:,lookback:] += loss_func(pred[:,:,lookback:],truth[:,:,lookback:], *args, **kwargs) * ratio[1]            \n",
    "        else:\n",
    "            loss = loss_func(pred[:,:,:lookback],truth[:,:,:lookback], *args, **kwargs) * ratio[0]\n",
    "            loss += loss_func(pred[:,:,lookback:],truth[:,:,lookback:], *args, **kwargs) * ratio[1]\n",
    "        return loss\n",
    "    \n",
    "    return _inner\n",
    "  "
   ]
  },
  {
   "cell_type": "code",
   "execution_count": null,
   "metadata": {},
   "outputs": [],
   "source": [
    "lookback = 7\n",
    "y, y_hat = torch.arange(10).float()[None,None,:], torch.arange(10)[None,None,:].float()+torch.randn(10)\n",
    "loss_fnc = CombinedLoss(F.mse_loss,lookback)\n",
    "test_eq(F.mse_loss(y[:,:,:7],y_hat[:,:,:7])+F.mse_loss(y[:,:,7:],y_hat[:,:,7:]),loss_fnc(y, y_hat))\n",
    "\n",
    "r = 10\n",
    "loss_fnc = CombinedLoss(F.mse_loss, lookback, ratio = [1,r])\n",
    "loss = loss_fnc(y, y_hat)\n",
    "test_eq(F.mse_loss(y[:,:,:7],y_hat[:,:,:7])+F.mse_loss(y[:,:,7:],y_hat[:,:,7:])*r,loss)"
   ]
  },
  {
   "cell_type": "code",
   "execution_count": null,
   "metadata": {},
   "outputs": [],
   "source": [
    "# hide\n",
    "y, y_hat = torch.arange(10).float()[None,:], torch.arange(10)[None,:].float()+torch.randn(10)\n",
    "loss_fnc = CombinedLoss(F.mse_loss,lookback)\n",
    "test_eq(F.mse_loss(y[:,:7],y_hat[:,:7])+F.mse_loss(y[:,7:],y_hat[:,7:]),loss_fnc(y, y_hat))"
   ]
  },
  {
   "cell_type": "code",
   "execution_count": null,
   "metadata": {},
   "outputs": [
    {
     "data": {
      "text/html": [],
      "text/plain": [
       "<IPython.core.display.HTML object>"
      ]
     },
     "metadata": {},
     "output_type": "display_data"
    },
    {
     "name": "stdout",
     "output_type": "stream",
     "text": [
      "torch.Size([1, 1020])\n",
      "Train:644; Valid: 18; Test 3\n"
     ]
    },
    {
     "data": {
      "text/html": [
       "<table border=\"1\" class=\"dataframe\">\n",
       "  <thead>\n",
       "    <tr style=\"text-align: left;\">\n",
       "      <th>epoch</th>\n",
       "      <th>train_loss</th>\n",
       "      <th>valid_loss</th>\n",
       "      <th>time</th>\n",
       "    </tr>\n",
       "  </thead>\n",
       "  <tbody>\n",
       "    <tr>\n",
       "      <td>0</td>\n",
       "      <td>4.440514</td>\n",
       "      <td>6.319127</td>\n",
       "      <td>00:01</td>\n",
       "    </tr>\n",
       "    <tr>\n",
       "      <td>1</td>\n",
       "      <td>3.748099</td>\n",
       "      <td>6.463669</td>\n",
       "      <td>00:01</td>\n",
       "    </tr>\n",
       "  </tbody>\n",
       "</table>"
      ],
      "text/plain": [
       "<IPython.core.display.HTML object>"
      ]
     },
     "metadata": {},
     "output_type": "display_data"
    }
   ],
   "source": [
    "horizon, lookback = 10,40\n",
    "path = untar_data(URLs.m4_daily)\n",
    "data = TSDataLoaders.from_folder(path, horizon = horizon, lookback = lookback, nrows = 3, step=3)\n",
    "mdl = NBeatsNet(device = data.train.device, horizon=horizon, lookback=lookback, layers = [100])\n",
    "loss_func = CombinedLoss(F.mse_loss, lookback)\n",
    "learn = Learner(data, mdl, loss_func=loss_func, opt_func= Adam,)\n",
    "learn.loss_func\n",
    "learn.fit(2,.1)"
   ]
  },
  {
   "cell_type": "code",
   "execution_count": null,
   "metadata": {},
   "outputs": [
    {
     "data": {
      "text/html": [],
      "text/plain": [
       "<IPython.core.display.HTML object>"
      ]
     },
     "metadata": {},
     "output_type": "display_data"
    }
   ],
   "source": [
    "# hide\n",
    "# reduction == none\n",
    "loss = torch.cat([F.mse_loss(y[:,:7],y_hat[:,:7],reduction='none'),F.mse_loss(y[:,7:],y_hat[:,7:],reduction='none')],-1)\n",
    "test_eq(loss[:,None,:],loss_fnc(y, y_hat, reduction='none'))\n",
    "idx = torch.arange(9)\n",
    "_ = learn.get_preds(dl=learn.dls[1], with_input=True, with_loss=True, with_decoded=True, act=None)"
   ]
  },
  {
   "cell_type": "markdown",
   "metadata": {},
   "source": [
    "## Metrics "
   ]
  },
  {
   "cell_type": "code",
   "execution_count": null,
   "metadata": {},
   "outputs": [],
   "source": [
    "#export\n",
    "class NBeatsLossPart(Metric):\n",
    "    \"The loss according to the `loss_func` on a particular part of the time-serie.\"\n",
    "    def __init__(self, start, end, name, *args, loss_func=None, **kwargs):\n",
    "        store_attr(\"start,end,loss_func\")\n",
    "        self._name = name\n",
    "        \n",
    "    def reset(self):           self.total,self.count = 0.,0\n",
    "    def accumulate(self, learn):\n",
    "        bs = find_bs(learn.yb)      \n",
    "        if self.loss_func is None:\n",
    "            self.loss_func = learn.loss_func\n",
    "        pred, truth = learn.pred, learn.yb[0]\n",
    "        if len(pred.shape) == 2:\n",
    "            pred = pred[:,None,:]\n",
    "            truth = truth[:,None,:]\n",
    "        assert pred[:,0,self.start:self.end].shape == truth[:,0,self.start:self.end].shape \n",
    "        loss = to_detach(self.loss_func(pred[:,0,self.start:self.end], truth[:,0,self.start:self.end])) / truth[:,0,self.start:self.end].shape[-1]\n",
    "        self.total += loss.mean()*bs        \n",
    "        self.count += bs\n",
    "    @property\n",
    "    def value(self): return self.total/self.count if self.count != 0 else None\n",
    "    @property\n",
    "    def name(self):  return self._name"
   ]
  },
  {
   "cell_type": "code",
   "execution_count": null,
   "metadata": {},
   "outputs": [
    {
     "name": "stdout",
     "output_type": "stream",
     "text": [
      "(1, 85)\n",
      "Train:70; Valid: 20; Test 10\n",
      "(1, 85)\n",
      "Train:110; Valid: 160; Test 10\n"
     ]
    },
    {
     "data": {
      "text/html": [
       "<table border=\"1\" class=\"dataframe\">\n",
       "  <thead>\n",
       "    <tr style=\"text-align: left;\">\n",
       "      <th>epoch</th>\n",
       "      <th>train_loss</th>\n",
       "      <th>valid_loss</th>\n",
       "      <th>Last</th>\n",
       "      <th>time</th>\n",
       "    </tr>\n",
       "  </thead>\n",
       "  <tbody>\n",
       "    <tr>\n",
       "      <td>0</td>\n",
       "      <td>3.048639</td>\n",
       "      <td>3.040012</td>\n",
       "      <td>0.094810</td>\n",
       "      <td>00:00</td>\n",
       "    </tr>\n",
       "    <tr>\n",
       "      <td>1</td>\n",
       "      <td>2.469483</td>\n",
       "      <td>1.811152</td>\n",
       "      <td>0.047356</td>\n",
       "      <td>00:00</td>\n",
       "    </tr>\n",
       "  </tbody>\n",
       "</table>"
      ],
      "text/plain": [
       "<IPython.core.display.HTML object>"
      ]
     },
     "metadata": {},
     "output_type": "display_data"
    }
   ],
   "source": [
    "# hide\n",
    "horizon, lookback = 10,30\n",
    "items = dummy_data_generator(75, 10, nrows=10)\n",
    "data = TSDataLoaders.from_items(items, horizon = horizon, lookback=lookback, step=3, valid_pct=.5\n",
    "                               )\n",
    "data = TSDataLoaders.from_items(items, horizon = horizon,lookback = lookback, bs=32)\n",
    "mdl = NBeatsNet(device = data.train.device, horizon=horizon, lookback=lookback, layers = [100])\n",
    "loss_func = F.mse_loss\n",
    "learn = Learner(data, mdl, loss_func=loss_func, opt_func= Adam, metrics=[NBeatsLossPart(0,-10,'Last')],\n",
    "#                 cbs=L(NBeatsTrainer())\n",
    "               )\n",
    "learn.loss_func\n",
    "learn.fit(2,.1)"
   ]
  },
  {
   "cell_type": "code",
   "execution_count": null,
   "metadata": {},
   "outputs": [
    {
     "name": "stdout",
     "output_type": "stream",
     "text": [
      "torch.Size([1, 1020])\n",
      "Train:656; Valid: 18; Test 3\n"
     ]
    },
    {
     "data": {
      "text/html": [
       "<table border=\"1\" class=\"dataframe\">\n",
       "  <thead>\n",
       "    <tr style=\"text-align: left;\">\n",
       "      <th>epoch</th>\n",
       "      <th>train_loss</th>\n",
       "      <th>valid_loss</th>\n",
       "      <th>Last</th>\n",
       "      <th>time</th>\n",
       "    </tr>\n",
       "  </thead>\n",
       "  <tbody>\n",
       "    <tr>\n",
       "      <td>0</td>\n",
       "      <td>3.180570</td>\n",
       "      <td>4.270472</td>\n",
       "      <td>0.074635</td>\n",
       "      <td>00:03</td>\n",
       "    </tr>\n",
       "    <tr>\n",
       "      <td>1</td>\n",
       "      <td>2.693972</td>\n",
       "      <td>3.318946</td>\n",
       "      <td>0.050488</td>\n",
       "      <td>00:03</td>\n",
       "    </tr>\n",
       "  </tbody>\n",
       "</table>"
      ],
      "text/plain": [
       "<IPython.core.display.HTML object>"
      ]
     },
     "metadata": {},
     "output_type": "display_data"
    }
   ],
   "source": [
    "# hide\n",
    "path = untar_data(URLs.m4_daily)\n",
    "data = TSDataLoaders.from_folder(path, horizon = horizon, lookback = lookback, nrows = 3, step=3, max_std=5)\n",
    "mdl = NBeatsNet(device = data.train.device, horizon=horizon, lookback=lookback)\n",
    "loss_func = F.mse_loss\n",
    "learn = Learner(data, mdl, loss_func=loss_func, opt_func= Adam, metrics=[NBeatsLossPart(0,-10,'Last')],\n",
    "#                 cbs=L(NBeatsTrainer())\n",
    "               )\n",
    "learn.loss_func\n",
    "learn.fit(2,.1)"
   ]
  },
  {
   "cell_type": "code",
   "execution_count": null,
   "metadata": {},
   "outputs": [],
   "source": [
    "#export\n",
    "class NBeatsBackward(NBeatsLossPart):\n",
    "    \"The loss according to the `loss_func` on the backwards part of the time-serie.\"    \n",
    "    def __init__(self, lookback, *args, **kwargs):\n",
    "        super().__init__(0, lookback, 'b_loss', *args, **kwargs)"
   ]
  },
  {
   "cell_type": "code",
   "execution_count": null,
   "metadata": {},
   "outputs": [
    {
     "name": "stdout",
     "output_type": "stream",
     "text": [
      "(1, 60)\n",
      "Train:190; Valid: 80; Test 10\n"
     ]
    },
    {
     "data": {
      "text/html": [
       "<table border=\"1\" class=\"dataframe\">\n",
       "  <thead>\n",
       "    <tr style=\"text-align: left;\">\n",
       "      <th>epoch</th>\n",
       "      <th>train_loss</th>\n",
       "      <th>valid_loss</th>\n",
       "      <th>time</th>\n",
       "    </tr>\n",
       "  </thead>\n",
       "  <tbody>\n",
       "    <tr>\n",
       "      <td>0</td>\n",
       "      <td>1.283422</td>\n",
       "      <td>1.268886</td>\n",
       "      <td>00:00</td>\n",
       "    </tr>\n",
       "    <tr>\n",
       "      <td>1</td>\n",
       "      <td>1.104555</td>\n",
       "      <td>1.149982</td>\n",
       "      <td>00:00</td>\n",
       "    </tr>\n",
       "  </tbody>\n",
       "</table>"
      ],
      "text/plain": [
       "<IPython.core.display.HTML object>"
      ]
     },
     "metadata": {},
     "output_type": "display_data"
    }
   ],
   "source": [
    "# hide\n",
    "horizon, lookback = 5,20\n",
    "items = dummy_data_generator(50, 10, nrows=10)\n",
    "data = TSDataLoaders.from_items(items, horizon = horizon,lookback = lookback, bs=32)\n",
    "mdl = NBeatsNet(device = data.train.device, horizon=horizon, lookback=lookback, layers = [100])\n",
    "loss_func = F.mse_loss\n",
    "learn = Learner(data, mdl, loss_func=loss_func, opt_func= Adam, #metrics=[NBeatsBackward(lookback)],\n",
    "#                 cbs=L(NBeatsTrainer())\n",
    "               )\n",
    "learn.loss_func\n",
    "learn.fit(2,.1)"
   ]
  },
  {
   "cell_type": "code",
   "execution_count": null,
   "metadata": {},
   "outputs": [],
   "source": [
    "#export\n",
    "class NBeatsForward(NBeatsLossPart):\n",
    "    \"The loss according to the `loss_func` on the forward part of the time-serie.\"  \n",
    "    def __init__(self, lookback, *args, **kwargs):\n",
    "        super().__init__(lookback, None, 'f_loss', *args, **kwargs)"
   ]
  },
  {
   "cell_type": "code",
   "execution_count": null,
   "metadata": {},
   "outputs": [
    {
     "name": "stdout",
     "output_type": "stream",
     "text": [
      "(1, 60)\n",
      "Train:57; Valid: 24; Test 3\n"
     ]
    },
    {
     "data": {
      "text/html": [
       "<table border=\"1\" class=\"dataframe\">\n",
       "  <thead>\n",
       "    <tr style=\"text-align: left;\">\n",
       "      <th>epoch</th>\n",
       "      <th>train_loss</th>\n",
       "      <th>valid_loss</th>\n",
       "      <th>f_loss</th>\n",
       "      <th>time</th>\n",
       "    </tr>\n",
       "  </thead>\n",
       "  <tbody>\n",
       "    <tr>\n",
       "      <td>0</td>\n",
       "      <td>2.119546</td>\n",
       "      <td>1.693114</td>\n",
       "      <td>0.643393</td>\n",
       "      <td>00:00</td>\n",
       "    </tr>\n",
       "    <tr>\n",
       "      <td>1</td>\n",
       "      <td>1.999058</td>\n",
       "      <td>1.830911</td>\n",
       "      <td>0.525921</td>\n",
       "      <td>00:00</td>\n",
       "    </tr>\n",
       "    <tr>\n",
       "      <td>2</td>\n",
       "      <td>1.788922</td>\n",
       "      <td>1.247476</td>\n",
       "      <td>0.474041</td>\n",
       "      <td>00:00</td>\n",
       "    </tr>\n",
       "  </tbody>\n",
       "</table>"
      ],
      "text/plain": [
       "<IPython.core.display.HTML object>"
      ]
     },
     "metadata": {},
     "output_type": "display_data"
    }
   ],
   "source": [
    "# hide\n",
    "items = dummy_data_generator(50, 10, nrows=3)\n",
    "data = TSDataLoaders.from_items(items, horizon = horizon,lookback = lookback, bs=32)\n",
    "mdl = NBeatsNet(device = data.train.device, horizon=horizon, lookback=lookback, layers = [100])\n",
    "loss_func = F.mse_loss\n",
    "learn = Learner(data, mdl, loss_func=loss_func, opt_func= Adam, metrics=[NBeatsForward(lookback)],\n",
    "               )\n",
    "learn.loss_func\n",
    "learn.fit(3,.1)\n",
    "test_eq(type(learn.metrics[0].value), Tensor)"
   ]
  },
  {
   "cell_type": "code",
   "execution_count": null,
   "metadata": {},
   "outputs": [
    {
     "name": "stdout",
     "output_type": "stream",
     "text": [
      "torch.Size([1, 1020])\n",
      "Train:327; Valid: 3; Test 1\n"
     ]
    },
    {
     "data": {
      "text/html": [
       "<table border=\"1\" class=\"dataframe\">\n",
       "  <thead>\n",
       "    <tr style=\"text-align: left;\">\n",
       "      <th>epoch</th>\n",
       "      <th>train_loss</th>\n",
       "      <th>valid_loss</th>\n",
       "      <th>mae</th>\n",
       "      <th>smape</th>\n",
       "      <th>b_loss</th>\n",
       "      <th>f_loss</th>\n",
       "      <th>time</th>\n",
       "    </tr>\n",
       "  </thead>\n",
       "  <tbody>\n",
       "    <tr>\n",
       "      <td>0</td>\n",
       "      <td>1.201533</td>\n",
       "      <td>1.721093</td>\n",
       "      <td>0.935713</td>\n",
       "      <td>1.019105</td>\n",
       "      <td>0.031540</td>\n",
       "      <td>1.216456</td>\n",
       "      <td>00:00</td>\n",
       "    </tr>\n",
       "    <tr>\n",
       "      <td>1</td>\n",
       "      <td>1.050859</td>\n",
       "      <td>1.206644</td>\n",
       "      <td>0.808499</td>\n",
       "      <td>0.966173</td>\n",
       "      <td>0.023748</td>\n",
       "      <td>0.826671</td>\n",
       "      <td>00:00</td>\n",
       "    </tr>\n",
       "    <tr>\n",
       "      <td>2</td>\n",
       "      <td>0.983588</td>\n",
       "      <td>1.152934</td>\n",
       "      <td>0.793493</td>\n",
       "      <td>0.968807</td>\n",
       "      <td>0.022994</td>\n",
       "      <td>0.785033</td>\n",
       "      <td>00:00</td>\n",
       "    </tr>\n",
       "  </tbody>\n",
       "</table>"
      ],
      "text/plain": [
       "<IPython.core.display.HTML object>"
      ]
     },
     "metadata": {},
     "output_type": "display_data"
    }
   ],
   "source": [
    "path = untar_data(URLs.m4_daily)\n",
    "data = TSDataLoaders.from_folder(path, horizon = horizon, lookback = lookback, nrows = 1, step=3, )\n",
    "mdl = NBeatsNet(device = data.train.device, horizon=horizon, lookback=lookback, layers = [100])\n",
    "loss_func = F.mse_loss\n",
    "learn = Learner(data, mdl, loss_func=loss_func, opt_func= Adam, metrics=L(None)+L(mae, smape, \n",
    "                                         NBeatsBackward(lookback), NBeatsForward(lookback)),)\n",
    "\n",
    "learn.fit(3, .1)"
   ]
  },
  {
   "cell_type": "code",
   "execution_count": null,
   "metadata": {},
   "outputs": [
    {
     "data": {
      "text/html": [],
      "text/plain": [
       "<IPython.core.display.HTML object>"
      ]
     },
     "metadata": {},
     "output_type": "display_data"
    },
    {
     "data": {
      "image/png": "[encoded data removed]",
      "text/plain": [
       "<Figure size 432x504 with 4 Axes>"
      ]
     },
     "metadata": {
      "needs_background": "light"
     },
     "output_type": "display_data"
    }
   ],
   "source": [
    "learn.show_results()"
   ]
  },
  {
   "cell_type": "code",
   "execution_count": null,
   "metadata": {},
   "outputs": [],
   "source": [
    "# export\n",
    "from fastseq.metrics import *\n",
    "\n",
    "class BackwardSMAPE(NBeatsLossPart):\n",
    "    \"The SMAPE on the backwards part of the time-serie.\"\n",
    "\n",
    "    def __init__(self, lookback, *args, **kwargs):\n",
    "        super().__init__(0, lookback, \"b_smape\", *args, loss_func=smape, **kwargs)\n",
    "\n",
    "\n",
    "class ForwardSMAPE(NBeatsLossPart):\n",
    "    \"The SMAPE on the forwards part of the time-serie.\"\n",
    "\n",
    "    def __init__(self, lookback, *args, **kwargs):\n",
    "        super().__init__(lookback, None, \"f_smape\", *args, loss_func=smape, **kwargs)\n"
   ]
  },
  {
   "cell_type": "code",
   "execution_count": null,
   "metadata": {},
   "outputs": [],
   "source": [
    "# hide\n",
    "# TODO mase"
   ]
  },
  {
   "cell_type": "code",
   "execution_count": null,
   "metadata": {},
   "outputs": [
    {
     "name": "stdout",
     "output_type": "stream",
     "text": [
      "(1, 60)\n",
      "Train:126; Valid: 12; Test 3\n"
     ]
    },
    {
     "data": {
      "text/html": [
       "<table border=\"1\" class=\"dataframe\">\n",
       "  <thead>\n",
       "    <tr style=\"text-align: left;\">\n",
       "      <th>epoch</th>\n",
       "      <th>train_loss</th>\n",
       "      <th>valid_loss</th>\n",
       "      <th>b_smape</th>\n",
       "      <th>f_smape</th>\n",
       "      <th>time</th>\n",
       "    </tr>\n",
       "  </thead>\n",
       "  <tbody>\n",
       "    <tr>\n",
       "      <td>0</td>\n",
       "      <td>1.897049</td>\n",
       "      <td>1.414328</td>\n",
       "      <td>0.132861</td>\n",
       "      <td>0.628999</td>\n",
       "      <td>00:00</td>\n",
       "    </tr>\n",
       "    <tr>\n",
       "      <td>1</td>\n",
       "      <td>1.531051</td>\n",
       "      <td>0.889353</td>\n",
       "      <td>0.115490</td>\n",
       "      <td>0.394242</td>\n",
       "      <td>00:00</td>\n",
       "    </tr>\n",
       "    <tr>\n",
       "      <td>2</td>\n",
       "      <td>1.342998</td>\n",
       "      <td>0.584557</td>\n",
       "      <td>0.111781</td>\n",
       "      <td>0.369091</td>\n",
       "      <td>00:00</td>\n",
       "    </tr>\n",
       "  </tbody>\n",
       "</table>"
      ],
      "text/plain": [
       "<IPython.core.display.HTML object>"
      ]
     },
     "metadata": {},
     "output_type": "display_data"
    }
   ],
   "source": [
    "# hide\n",
    "items = dummy_data_generator(50, 10, nrows=3)\n",
    "data = TSDataLoaders.from_items(items, horizon = horizon,lookback = lookback, bs=32)\n",
    "mdl = NBeatsNet(device = data.train.device, horizon=horizon, lookback=lookback, layers = [100])\n",
    "loss_func = F.mse_loss\n",
    "learn = Learner(data, mdl, loss_func=loss_func, opt_func= Adam, metrics=[BackwardSMAPE(lookback), ForwardSMAPE(lookback)],\n",
    "               )\n",
    "learn.loss_func\n",
    "learn.fit(3,.1)\n",
    "test_eq(type(learn.metrics[0].value), Tensor)"
   ]
  },
  {
   "cell_type": "code",
   "execution_count": null,
   "metadata": {},
   "outputs": [
    {
     "name": "stdout",
     "output_type": "stream",
     "text": [
      "torch.Size([1, 1020])\n",
      "Train:334; Valid: 2; Test 1\n"
     ]
    },
    {
     "data": {
      "text/html": [
       "<table border=\"1\" class=\"dataframe\">\n",
       "  <thead>\n",
       "    <tr style=\"text-align: left;\">\n",
       "      <th>epoch</th>\n",
       "      <th>train_loss</th>\n",
       "      <th>valid_loss</th>\n",
       "      <th>mae</th>\n",
       "      <th>smape</th>\n",
       "      <th>b_loss</th>\n",
       "      <th>f_loss</th>\n",
       "      <th>time</th>\n",
       "    </tr>\n",
       "  </thead>\n",
       "  <tbody>\n",
       "    <tr>\n",
       "      <td>0</td>\n",
       "      <td>1.626564</td>\n",
       "      <td>0.531735</td>\n",
       "      <td>0.611273</td>\n",
       "      <td>1.127493</td>\n",
       "      <td>0.056581</td>\n",
       "      <td>0.180685</td>\n",
       "      <td>00:00</td>\n",
       "    </tr>\n",
       "    <tr>\n",
       "      <td>1</td>\n",
       "      <td>1.354240</td>\n",
       "      <td>0.448775</td>\n",
       "      <td>0.545311</td>\n",
       "      <td>0.951489</td>\n",
       "      <td>0.050076</td>\n",
       "      <td>0.094422</td>\n",
       "      <td>00:00</td>\n",
       "    </tr>\n",
       "    <tr>\n",
       "      <td>2</td>\n",
       "      <td>1.241490</td>\n",
       "      <td>0.454662</td>\n",
       "      <td>0.575566</td>\n",
       "      <td>1.042800</td>\n",
       "      <td>0.050171</td>\n",
       "      <td>0.109699</td>\n",
       "      <td>00:00</td>\n",
       "    </tr>\n",
       "  </tbody>\n",
       "</table>"
      ],
      "text/plain": [
       "<IPython.core.display.HTML object>"
      ]
     },
     "metadata": {},
     "output_type": "display_data"
    }
   ],
   "source": [
    "path = untar_data(URLs.m4_daily)\n",
    "data = TSDataLoaders.from_folder(path, horizon = horizon, lookback = lookback, nrows = 1, step=3, )\n",
    "mdl = NBeatsNet(device = data.train.device, horizon=horizon, lookback=lookback, layers = [100])\n",
    "loss_func = F.mse_loss\n",
    "learn = Learner(data, mdl, loss_func=loss_func, opt_func= Adam, metrics=L(None)+L(mae, smape, \n",
    "                                         BackwardSMAPE(lookback), ForwardSMAPE(lookback)),)\n",
    "\n",
    "learn.fit(3, .1)"
   ]
  },
  {
   "cell_type": "code",
   "execution_count": null,
   "metadata": {},
   "outputs": [],
   "source": []
  },
  {
   "cell_type": "markdown",
   "metadata": {},
   "source": [
    "## Other"
   ]
  },
  {
   "cell_type": "code",
   "execution_count": null,
   "metadata": {},
   "outputs": [],
   "source": [
    "# export\n",
    "def _get_key_from_nested_dct(dct, s_key, exclude = [], namespace=''):\n",
    "    r = {}\n",
    "    for key in dct.keys():\n",
    "        if sum([exc in key for exc in exclude])== 0 :\n",
    "            if type(dct[key]) == dict:\n",
    "                r.update(_get_key_from_nested_dct(dct[key], s_key, exclude, namespace=namespace+key))\n",
    "            if s_key in key:\n",
    "                r[namespace+key] = dct[key]\n",
    "    return r"
   ]
  },
  {
   "cell_type": "code",
   "execution_count": null,
   "metadata": {},
   "outputs": [],
   "source": [
    "dct = {'foo':{'bar':1},'bar':2,'foo2':{'foo3':3},'ignore':{'bar':1000}}\n",
    "r = _get_key_from_nested_dct(dct,'bar',['ignore'])\n",
    "test_eq(r,{'foobar': 1, 'bar': 2})"
   ]
  },
  {
   "cell_type": "code",
   "execution_count": null,
   "metadata": {},
   "outputs": [],
   "source": [
    "#export\n",
    "class NBeatsTheta(Metric):\n",
    "    \"The sqaure of the `theta` for every block. \"\n",
    "    def reset(self):           self.total,self.count = 0.,0\n",
    "    def accumulate(self, learn):\n",
    "        bs = find_bs(learn.yb)   \n",
    "        theta_dct = _get_key_from_nested_dct(learn.model.dct,'theta',['bias','total','att'])\n",
    "        t = torch.sum(tensor([v.float().abs().mean() for k,v in theta_dct.items()]))\n",
    "        self.total += to_detach(t.abs().mean())*bs\n",
    "        self.count += bs\n",
    "    @property\n",
    "    def value(self): return self.total/self.count if self.count != 0 else None\n",
    "    @property\n",
    "    def name(self):  return \"theta\""
   ]
  },
  {
   "cell_type": "code",
   "execution_count": null,
   "metadata": {},
   "outputs": [
    {
     "name": "stdout",
     "output_type": "stream",
     "text": [
      "torch.Size([1, 1020])\n",
      "Train:327; Valid: 4; Test 1\n"
     ]
    },
    {
     "data": {
      "text/html": [
       "<table border=\"1\" class=\"dataframe\">\n",
       "  <thead>\n",
       "    <tr style=\"text-align: left;\">\n",
       "      <th>epoch</th>\n",
       "      <th>train_loss</th>\n",
       "      <th>valid_loss</th>\n",
       "      <th>theta</th>\n",
       "      <th>time</th>\n",
       "    </tr>\n",
       "  </thead>\n",
       "  <tbody>\n",
       "    <tr>\n",
       "      <td>0</td>\n",
       "      <td>3.218897</td>\n",
       "      <td>3.638505</td>\n",
       "      <td>1.559033</td>\n",
       "      <td>00:00</td>\n",
       "    </tr>\n",
       "    <tr>\n",
       "      <td>1</td>\n",
       "      <td>3.042957</td>\n",
       "      <td>3.146926</td>\n",
       "      <td>1.094095</td>\n",
       "      <td>00:00</td>\n",
       "    </tr>\n",
       "    <tr>\n",
       "      <td>2</td>\n",
       "      <td>2.959047</td>\n",
       "      <td>3.188194</td>\n",
       "      <td>1.110073</td>\n",
       "      <td>00:00</td>\n",
       "    </tr>\n",
       "  </tbody>\n",
       "</table>"
      ],
      "text/plain": [
       "<IPython.core.display.HTML object>"
      ]
     },
     "metadata": {},
     "output_type": "display_data"
    }
   ],
   "source": [
    "horizon, lookback = 7,10\n",
    "path = untar_data(URLs.m4_daily)\n",
    "data = TSDataLoaders.from_folder(path, horizon = horizon, lookback = lookback, nrows = 1, step=3, max_std=5)\n",
    "\n",
    "mdl = NBeatsNet(device = data.train.device, horizon=horizon, lookback=lookback, layers = [100])\n",
    "loss_func = F.mse_loss\n",
    "learn = Learner(data, mdl, loss_func=loss_func, opt_func= Adam, metrics=[NBeatsTheta()],\n",
    "               )\n",
    "\n",
    "learn.fit(3,.1)\n",
    "test_eq(type(learn.metrics[0].value),Tensor)"
   ]
  },
  {
   "cell_type": "markdown",
   "metadata": {},
   "source": [
    "## Callbacks"
   ]
  },
  {
   "cell_type": "code",
   "execution_count": null,
   "metadata": {},
   "outputs": [],
   "source": [
    "# export\n",
    "class NBeatsAttention(Callback):  \n",
    "    def means(self, df=True):\n",
    "        theta_means = {k.replace('theta',''):v.float().cpu().data for k,v in _get_key_from_nested_dct(self.learn.model.dct,'theta',['total']).items()}\n",
    "        ret = {}\n",
    "        for k,v in theta_means.items():\n",
    "            ret[k] = {}\n",
    "            for i in range(v.shape[-1]):\n",
    "                ret[k].update({'theta_'+str(i)+'_mean': v[:,i].mean().numpy(),\n",
    "                               'theta_'+str(i)+'_std': v[:,i].std().numpy(),\n",
    "                              })\n",
    "            \n",
    "        att = {k.replace('attention','att_mean'):v.float().cpu().numpy() for k,v in _get_key_from_nested_dct(self.learn.model.dct,'att',['total']).items()}\n",
    "        for k in ret.keys():\n",
    "            for att_key in att.keys():\n",
    "                if k in att_key:\n",
    "                    ret[k].update({'att_mean':att[att_key].mean(),\n",
    "                                   'att_std':att[att_key].std(),\n",
    "                                  })\n",
    "                \n",
    "        if df:\n",
    "            return pd.DataFrame(ret)\n",
    "        return ret"
   ]
  },
  {
   "cell_type": "code",
   "execution_count": null,
   "metadata": {},
   "outputs": [
    {
     "name": "stdout",
     "output_type": "stream",
     "text": [
      "torch.Size([1, 105])\n",
      "Train:89; Valid: 33; Test 3\n"
     ]
    },
    {
     "data": {
      "text/html": [
       "<table border=\"1\" class=\"dataframe\">\n",
       "  <thead>\n",
       "    <tr style=\"text-align: left;\">\n",
       "      <th>epoch</th>\n",
       "      <th>train_loss</th>\n",
       "      <th>valid_loss</th>\n",
       "      <th>mae</th>\n",
       "      <th>smape</th>\n",
       "      <th>theta</th>\n",
       "      <th>b_loss</th>\n",
       "      <th>f_loss</th>\n",
       "      <th>time</th>\n",
       "    </tr>\n",
       "  </thead>\n",
       "  <tbody>\n",
       "    <tr>\n",
       "      <td>0</td>\n",
       "      <td>7.063035</td>\n",
       "      <td>6.239435</td>\n",
       "      <td>2.075063</td>\n",
       "      <td>1.390074</td>\n",
       "      <td>2.909513</td>\n",
       "      <td>0.335390</td>\n",
       "      <td>1.480233</td>\n",
       "      <td>00:00</td>\n",
       "    </tr>\n",
       "    <tr>\n",
       "      <td>1</td>\n",
       "      <td>7.443372</td>\n",
       "      <td>8.091285</td>\n",
       "      <td>2.275772</td>\n",
       "      <td>1.553161</td>\n",
       "      <td>3.219479</td>\n",
       "      <td>0.366179</td>\n",
       "      <td>2.059876</td>\n",
       "      <td>00:00</td>\n",
       "    </tr>\n",
       "    <tr>\n",
       "      <td>2</td>\n",
       "      <td>7.676329</td>\n",
       "      <td>6.378671</td>\n",
       "      <td>2.065759</td>\n",
       "      <td>1.593280</td>\n",
       "      <td>2.533737</td>\n",
       "      <td>0.286700</td>\n",
       "      <td>1.627907</td>\n",
       "      <td>00:00</td>\n",
       "    </tr>\n",
       "  </tbody>\n",
       "</table>"
      ],
      "text/plain": [
       "<IPython.core.display.HTML object>"
      ]
     },
     "metadata": {},
     "output_type": "display_data"
    },
    {
     "data": {
      "text/html": [
       "<div>\n",
       "<style scoped>\n",
       "    .dataframe tbody tr th:only-of-type {\n",
       "        vertical-align: middle;\n",
       "    }\n",
       "\n",
       "    .dataframe tbody tr th {\n",
       "        vertical-align: top;\n",
       "    }\n",
       "\n",
       "    .dataframe thead th {\n",
       "        text-align: right;\n",
       "    }\n",
       "</style>\n",
       "<table border=\"1\" class=\"dataframe\">\n",
       "  <thead>\n",
       "    <tr style=\"text-align: right;\">\n",
       "      <th></th>\n",
       "      <th>trend0_0</th>\n",
       "      <th>trend0_1</th>\n",
       "      <th>seasonality1_0</th>\n",
       "      <th>seasonality1_1</th>\n",
       "      <th>seasonality1_2</th>\n",
       "      <th>seasonality1_3</th>\n",
       "    </tr>\n",
       "  </thead>\n",
       "  <tbody>\n",
       "    <tr>\n",
       "      <th>theta_0_mean</th>\n",
       "      <td>0.0</td>\n",
       "      <td>0.0</td>\n",
       "      <td>2.2499769</td>\n",
       "      <td>0.24990746</td>\n",
       "      <td>-2.25</td>\n",
       "      <td>0.0</td>\n",
       "    </tr>\n",
       "    <tr>\n",
       "      <th>theta_0_std</th>\n",
       "      <td>0.0</td>\n",
       "      <td>0.0</td>\n",
       "      <td>0.0</td>\n",
       "      <td>0.0</td>\n",
       "      <td>0.0</td>\n",
       "      <td>0.0</td>\n",
       "    </tr>\n",
       "    <tr>\n",
       "      <th>theta_1_mean</th>\n",
       "      <td>0.005</td>\n",
       "      <td>1.846627e-06</td>\n",
       "      <td>-0.025963232</td>\n",
       "      <td>-0.5625</td>\n",
       "      <td>0.0</td>\n",
       "      <td>0.0</td>\n",
       "    </tr>\n",
       "    <tr>\n",
       "      <th>theta_1_std</th>\n",
       "      <td>0.0</td>\n",
       "      <td>0.0</td>\n",
       "      <td>5.350041e-09</td>\n",
       "      <td>0.0</td>\n",
       "      <td>0.0</td>\n",
       "      <td>0.0</td>\n",
       "    </tr>\n",
       "    <tr>\n",
       "      <th>theta_2_mean</th>\n",
       "      <td>0.0</td>\n",
       "      <td>0.0</td>\n",
       "      <td>0.0</td>\n",
       "      <td>0.25</td>\n",
       "      <td>-0.140625</td>\n",
       "      <td>0.0</td>\n",
       "    </tr>\n",
       "    <tr>\n",
       "      <th>theta_2_std</th>\n",
       "      <td>0.0</td>\n",
       "      <td>0.0</td>\n",
       "      <td>0.0</td>\n",
       "      <td>0.0</td>\n",
       "      <td>0.0</td>\n",
       "      <td>0.0</td>\n",
       "    </tr>\n",
       "    <tr>\n",
       "      <th>theta_3_mean</th>\n",
       "      <td>-0.14988667</td>\n",
       "      <td>-0.0004500001</td>\n",
       "      <td>NaN</td>\n",
       "      <td>0.5625</td>\n",
       "      <td>2.25</td>\n",
       "      <td>2.25</td>\n",
       "    </tr>\n",
       "    <tr>\n",
       "      <th>theta_3_std</th>\n",
       "      <td>0.0</td>\n",
       "      <td>0.0</td>\n",
       "      <td>NaN</td>\n",
       "      <td>0.0</td>\n",
       "      <td>0.0</td>\n",
       "      <td>0.0</td>\n",
       "    </tr>\n",
       "    <tr>\n",
       "      <th>theta_4_mean</th>\n",
       "      <td>0.0</td>\n",
       "      <td>-0.14941214</td>\n",
       "      <td>NaN</td>\n",
       "      <td>NaN</td>\n",
       "      <td>0.0</td>\n",
       "      <td>0.0</td>\n",
       "    </tr>\n",
       "    <tr>\n",
       "      <th>theta_4_std</th>\n",
       "      <td>0.0</td>\n",
       "      <td>0.0</td>\n",
       "      <td>NaN</td>\n",
       "      <td>NaN</td>\n",
       "      <td>0.0</td>\n",
       "      <td>0.0</td>\n",
       "    </tr>\n",
       "    <tr>\n",
       "      <th>theta_5_mean</th>\n",
       "      <td>0.0</td>\n",
       "      <td>0.169529</td>\n",
       "      <td>NaN</td>\n",
       "      <td>NaN</td>\n",
       "      <td>NaN</td>\n",
       "      <td>0.0</td>\n",
       "    </tr>\n",
       "    <tr>\n",
       "      <th>theta_5_std</th>\n",
       "      <td>0.0</td>\n",
       "      <td>2.1400163e-08</td>\n",
       "      <td>NaN</td>\n",
       "      <td>NaN</td>\n",
       "      <td>NaN</td>\n",
       "      <td>0.0</td>\n",
       "    </tr>\n",
       "    <tr>\n",
       "      <th>att_mean</th>\n",
       "      <td>0.333318</td>\n",
       "      <td>0.232766</td>\n",
       "      <td>0.338758</td>\n",
       "      <td>1</td>\n",
       "      <td>0.6</td>\n",
       "      <td>0.166667</td>\n",
       "    </tr>\n",
       "    <tr>\n",
       "      <th>att_std</th>\n",
       "      <td>0.471383</td>\n",
       "      <td>0.347018</td>\n",
       "      <td>0.466685</td>\n",
       "      <td>0</td>\n",
       "      <td>0.489898</td>\n",
       "      <td>0.372678</td>\n",
       "    </tr>\n",
       "    <tr>\n",
       "      <th>theta_6_mean</th>\n",
       "      <td>NaN</td>\n",
       "      <td>0.0</td>\n",
       "      <td>NaN</td>\n",
       "      <td>NaN</td>\n",
       "      <td>NaN</td>\n",
       "      <td>NaN</td>\n",
       "    </tr>\n",
       "    <tr>\n",
       "      <th>theta_6_std</th>\n",
       "      <td>NaN</td>\n",
       "      <td>0.0</td>\n",
       "      <td>NaN</td>\n",
       "      <td>NaN</td>\n",
       "      <td>NaN</td>\n",
       "      <td>NaN</td>\n",
       "    </tr>\n",
       "    <tr>\n",
       "      <th>theta_7_mean</th>\n",
       "      <td>NaN</td>\n",
       "      <td>0.0</td>\n",
       "      <td>NaN</td>\n",
       "      <td>NaN</td>\n",
       "      <td>NaN</td>\n",
       "      <td>NaN</td>\n",
       "    </tr>\n",
       "    <tr>\n",
       "      <th>theta_7_std</th>\n",
       "      <td>NaN</td>\n",
       "      <td>0.0</td>\n",
       "      <td>NaN</td>\n",
       "      <td>NaN</td>\n",
       "      <td>NaN</td>\n",
       "      <td>NaN</td>\n",
       "    </tr>\n",
       "  </tbody>\n",
       "</table>\n",
       "</div>"
      ],
      "text/plain": [
       "                 trend0_0       trend0_1 seasonality1_0 seasonality1_1  \\\n",
       "theta_0_mean          0.0            0.0      2.2499769     0.24990746   \n",
       "theta_0_std           0.0            0.0            0.0            0.0   \n",
       "theta_1_mean        0.005   1.846627e-06   -0.025963232        -0.5625   \n",
       "theta_1_std           0.0            0.0   5.350041e-09            0.0   \n",
       "theta_2_mean          0.0            0.0            0.0           0.25   \n",
       "theta_2_std           0.0            0.0            0.0            0.0   \n",
       "theta_3_mean  -0.14988667  -0.0004500001            NaN         0.5625   \n",
       "theta_3_std           0.0            0.0            NaN            0.0   \n",
       "theta_4_mean          0.0    -0.14941214            NaN            NaN   \n",
       "theta_4_std           0.0            0.0            NaN            NaN   \n",
       "theta_5_mean          0.0       0.169529            NaN            NaN   \n",
       "theta_5_std           0.0  2.1400163e-08            NaN            NaN   \n",
       "att_mean         0.333318       0.232766       0.338758              1   \n",
       "att_std          0.471383       0.347018       0.466685              0   \n",
       "theta_6_mean          NaN            0.0            NaN            NaN   \n",
       "theta_6_std           NaN            0.0            NaN            NaN   \n",
       "theta_7_mean          NaN            0.0            NaN            NaN   \n",
       "theta_7_std           NaN            0.0            NaN            NaN   \n",
       "\n",
       "             seasonality1_2 seasonality1_3  \n",
       "theta_0_mean          -2.25            0.0  \n",
       "theta_0_std             0.0            0.0  \n",
       "theta_1_mean            0.0            0.0  \n",
       "theta_1_std             0.0            0.0  \n",
       "theta_2_mean      -0.140625            0.0  \n",
       "theta_2_std             0.0            0.0  \n",
       "theta_3_mean           2.25           2.25  \n",
       "theta_3_std             0.0            0.0  \n",
       "theta_4_mean            0.0            0.0  \n",
       "theta_4_std             0.0            0.0  \n",
       "theta_5_mean            NaN            0.0  \n",
       "theta_5_std             NaN            0.0  \n",
       "att_mean                0.6       0.166667  \n",
       "att_std            0.489898       0.372678  \n",
       "theta_6_mean            NaN            NaN  \n",
       "theta_6_std             NaN            NaN  \n",
       "theta_7_mean            NaN            NaN  \n",
       "theta_7_std             NaN            NaN  "
      ]
     },
     "execution_count": null,
     "metadata": {},
     "output_type": "execute_result"
    }
   ],
   "source": [
    "horizon, lookback = 7,10\n",
    "items = L(np.arange(-5,100)[None,:],np.arange(500,550)[None,:],np.arange(-110,-56)[None,:]).map(tensor)\n",
    "data = TSDataLoaders.from_items(items, horizon = horizon, lookback=lookback, step=1, after_batch = NormalizeTS()\n",
    "                             )\n",
    "mdl = NBeatsNet(device = data.train.device,horizon=horizon, lookback=lookback)\n",
    "loss_func = F.mse_loss\n",
    "learn = Learner(data, mdl, loss_func=loss_func, opt_func= Adam, metrics=L(mae, smape, NBeatsTheta(), \n",
    "                                         NBeatsBackward(lookback), NBeatsForward(lookback)),\n",
    "                cbs=L( NBeatsAttention()\n",
    "                     )\n",
    "               )\n",
    "learn.fit(3,.1)\n",
    "df = learn.n_beats_attention.means()\n",
    "df"
   ]
  },
  {
   "cell_type": "code",
   "execution_count": null,
   "metadata": {},
   "outputs": [
    {
     "data": {
      "text/html": [],
      "text/plain": [
       "<IPython.core.display.HTML object>"
      ]
     },
     "metadata": {},
     "output_type": "display_data"
    },
    {
     "data": {
      "image/png": "[encoded data removed]",
      "text/plain": [
       "<Figure size 648x720 with 9 Axes>"
      ]
     },
     "metadata": {
      "needs_background": "light"
     },
     "output_type": "display_data"
    }
   ],
   "source": [
    "learn.show_results()"
   ]
  },
  {
   "cell_type": "code",
   "execution_count": null,
   "metadata": {},
   "outputs": [],
   "source": [
    "# export\n",
    "class ClipLoss(Callback):\n",
    "    \"`Callback` that adds weights regularization the thetas in N-Beats training.\"\n",
    "    def __init__(self, clip=5):\n",
    "        self.clip = tensor([clip])\n",
    "\n",
    "    def after_loss(self):\n",
    "        self.learn.loss = torch.clamp(self.learn.loss, 0, self.clip.numpy()[0])\n",
    "        \n",
    "#     def after_backward(self):\n",
    "#         nn.utils.clip_grad_norm_(self.learn.model.parameters(), self.clip)"
   ]
  },
  {
   "cell_type": "code",
   "execution_count": null,
   "metadata": {},
   "outputs": [
    {
     "name": "stdout",
     "output_type": "stream",
     "text": [
      "torch.Size([1, 35])\n",
      "Train:49; Valid: 8; Test 2\n"
     ]
    },
    {
     "data": {
      "text/html": [
       "<table border=\"1\" class=\"dataframe\">\n",
       "  <thead>\n",
       "    <tr style=\"text-align: left;\">\n",
       "      <th>epoch</th>\n",
       "      <th>train_loss</th>\n",
       "      <th>valid_loss</th>\n",
       "      <th>time</th>\n",
       "    </tr>\n",
       "  </thead>\n",
       "  <tbody>\n",
       "    <tr>\n",
       "      <td>0</td>\n",
       "      <td>1.439459</td>\n",
       "      <td>2.123430</td>\n",
       "      <td>00:00</td>\n",
       "    </tr>\n",
       "    <tr>\n",
       "      <td>1</td>\n",
       "      <td>2.391775</td>\n",
       "      <td>5.000000</td>\n",
       "      <td>00:00</td>\n",
       "    </tr>\n",
       "    <tr>\n",
       "      <td>2</td>\n",
       "      <td>3.278804</td>\n",
       "      <td>5.000000</td>\n",
       "      <td>00:00</td>\n",
       "    </tr>\n",
       "    <tr>\n",
       "      <td>3</td>\n",
       "      <td>3.722229</td>\n",
       "      <td>5.000000</td>\n",
       "      <td>00:00</td>\n",
       "    </tr>\n",
       "    <tr>\n",
       "      <td>4</td>\n",
       "      <td>3.988210</td>\n",
       "      <td>3.264698</td>\n",
       "      <td>00:00</td>\n",
       "    </tr>\n",
       "    <tr>\n",
       "      <td>5</td>\n",
       "      <td>4.165472</td>\n",
       "      <td>3.354544</td>\n",
       "      <td>00:00</td>\n",
       "    </tr>\n",
       "    <tr>\n",
       "      <td>6</td>\n",
       "      <td>4.292035</td>\n",
       "      <td>3.529953</td>\n",
       "      <td>00:00</td>\n",
       "    </tr>\n",
       "    <tr>\n",
       "      <td>7</td>\n",
       "      <td>4.386912</td>\n",
       "      <td>5.000000</td>\n",
       "      <td>00:00</td>\n",
       "    </tr>\n",
       "    <tr>\n",
       "      <td>8</td>\n",
       "      <td>4.460666</td>\n",
       "      <td>5.000000</td>\n",
       "      <td>00:00</td>\n",
       "    </tr>\n",
       "    <tr>\n",
       "      <td>9</td>\n",
       "      <td>4.519632</td>\n",
       "      <td>5.000000</td>\n",
       "      <td>00:00</td>\n",
       "    </tr>\n",
       "  </tbody>\n",
       "</table>"
      ],
      "text/plain": [
       "<IPython.core.display.HTML object>"
      ]
     },
     "metadata": {},
     "output_type": "display_data"
    },
    {
     "data": {
      "image/png": "[encoded data removed]",
      "text/plain": [
       "<Figure size 432x288 with 1 Axes>"
      ]
     },
     "metadata": {
      "needs_background": "light"
     },
     "output_type": "display_data"
    }
   ],
   "source": [
    "horizon, lookback = 2,10\n",
    "items = L(np.arange(-5,30)[None,:],np.arange(50)[None,:]).map(tensor)\n",
    "items[-1][:,-8:-5] = 1e10\n",
    "data = TSDataLoaders.from_items(items, horizon = horizon, lookback=lookback, step=1, after_batch = NormalizeTS()\n",
    "                             )\n",
    "mdl = NBeatsNet(device = data.train.device,horizon=horizon, lookback=lookback)\n",
    "loss_func = F.mse_loss\n",
    "learn = Learner(data, mdl, loss_func=loss_func, opt_func= Adam, \n",
    "                cbs=L(ClipLoss()\n",
    "                     )\n",
    "               )\n",
    "\n",
    "learn.fit(10,.1)\n",
    "learn.recorder.plot_loss()"
   ]
  },
  {
   "cell_type": "code",
   "execution_count": null,
   "metadata": {},
   "outputs": [
    {
     "data": {
      "text/html": [],
      "text/plain": [
       "<IPython.core.display.HTML object>"
      ]
     },
     "metadata": {},
     "output_type": "display_data"
    },
    {
     "data": {
      "image/png": "[encoded data removed]",
      "text/plain": [
       "<Figure size 648x720 with 9 Axes>"
      ]
     },
     "metadata": {
      "needs_background": "light"
     },
     "output_type": "display_data"
    }
   ],
   "source": [
    "learn.show_results()"
   ]
  },
  {
   "cell_type": "code",
   "execution_count": null,
   "metadata": {},
   "outputs": [],
   "source": [
    "#export\n",
    "class Components(Callback):\n",
    "    \"\"\"`Callack` that stores output of blocks\"\"\"\n",
    "\n",
    "    def begin_validate(self):\n",
    "        \"Initialize containers\"\n",
    "        self.stored = []\n",
    "\n",
    "    def after_batch(self):\n",
    "        \"Save predictions, targets and potentially losses\"\n",
    "        self.stored.append(_get_key_from_nested_dct(self.learn.model.dct,'full'))\n",
    "        \n",
    "    def after_validate(self):\n",
    "        \"Concatenate all recorded tensors\"\n",
    "        self.stored = detuplify(to_concat(self.stored))"
   ]
  },
  {
   "cell_type": "code",
   "execution_count": null,
   "metadata": {},
   "outputs": [],
   "source": [
    "# hide\n",
    "# old stuff\n",
    "###################################################\n",
    "###################################################"
   ]
  },
  {
   "cell_type": "code",
   "execution_count": null,
   "metadata": {},
   "outputs": [],
   "source": [
    "# hide\n",
    "class NBeatsBLoss(Callback): \n",
    "    def __init__(self,alpha = 1):store_attr('alpha')\n",
    "    def after_loss(self):\n",
    "#         print('pre',self.learn.loss,self.n_beats_trainer.out['total_b_loss'].mean())\n",
    "        self.learn.loss = self.learn.loss + self.n_beats_trainer.out['total_b_loss'].mean()*self.alpha\n",
    "#         print('after',self.learn.loss)"
   ]
  },
  {
   "cell_type": "code",
   "execution_count": null,
   "metadata": {},
   "outputs": [],
   "source": [
    "# hide\n",
    "horizon, lookback = 7,30\n",
    "items = L(np.arange(-5,100)[None,:],np.arange(250,550)[None,:],np.arange(-110,-56)[None,:]).map(tensor)\n",
    "data = TSDataLoaders.from_items(items, horizon = horizon, lookback=lookback, step=1, after_batch = NormalizeTS()\n",
    "                               )\n",
    "thetas_dim= (2,4)\n",
    "mdl = NBeatsNet(device = data.train.device, nb_blocks_per_stack = 1, horizon=horizon, lookback=lookback, thetas_dim=thetas_dim)\n",
    "loss_func = F.mse_loss\n",
    "learn = Learner(data, mdl, loss_func=loss_func, opt_func= Adam, metrics = [smape,NBeatsBackwards(lookback)],\n",
    "                cbs=L(NBeatsAttention(),\n",
    "                     )\n",
    "               )"
   ]
  },
  {
   "cell_type": "code",
   "execution_count": null,
   "metadata": {},
   "outputs": [],
   "source": [
    "# hide\n",
    "# test_eq(list(df.columns),[o+str(i)+'_0' for i,o in enumerate(stack_types)])\n",
    "# test_eq('att_mean' in list(df.axes[0]), True)\n",
    "# test_eq('att_std' in list(df.axes[0]), True)"
   ]
  },
  {
   "cell_type": "code",
   "execution_count": null,
   "metadata": {},
   "outputs": [],
   "source": [
    "# hide\n",
    "# TODO maybe add extra backwards loss also in a callback??\n",
    "class NBeatsTrainer(Callback):\n",
    "    \"`Callback` that adds weights regularization the thetas in N-Beats training.\"\n",
    "    def __init__(self, theta=0., b_loss=0.): \n",
    "        self.theta, self.b_loss = theta, b_loss\n",
    "        self.metrics = {'theta':tensor([0.]), 'b_loss':tensor([0.])}\n",
    "        self.b = None\n",
    "\n",
    "    def begin_train(self): \n",
    "        self.out = defaultdict(dict)\n",
    "        self.metrics = {'theta':tensor([0.]), 'b_loss':tensor([0.])}\n",
    "        \n",
    "    def begin_validate(self): \n",
    "        self.out = defaultdict(dict)\n",
    "        self.metrics = {'theta':tensor([0.]), 'b_loss':tensor([0.])}\n",
    "        \n",
    "    def after_pred(self):\n",
    "        self.b = self.pred[1] \n",
    "        self.pred[2]['total_b'] = self.pred[1] \n",
    "        self.out = concat_dct(self.pred[2], self.out)   \n",
    "        self.learn.pred = self.pred[0]\n",
    "\n",
    "    def after_loss(self):        \n",
    "        # theta\n",
    "        value=tensor([0.])\n",
    "        for key in self.out.keys():\n",
    "            if 'bias' not in key and 'total' not in key and 'att' not in key:\n",
    "                v = self.out[key]['theta'].float().pow(2).mean()\n",
    "                if self.theta != 0.:     \n",
    "                    self.learn.loss += self.theta * v.item()\n",
    "                value = value + v\n",
    "        self.metrics['theta'] += value.clone().cpu().detach()\n",
    "        \n",
    "        # backwards \n",
    "        value = self.learn.loss_func(self.b.float(), *self.xb, reduction='mean') \n",
    "        if self.b_loss != 0.:\n",
    "            self.learn.loss += self.b_loss * value.mean() \n",
    "        self.metrics['b_loss'] += value.sum().clone().detach()\n",
    "            \n"
   ]
  },
  {
   "cell_type": "code",
   "execution_count": null,
   "metadata": {},
   "outputs": [
    {
     "name": "stdout",
     "output_type": "stream",
     "text": [
      "Converted 00_core.ipynb.\n",
      "Converted 01_data.external.ipynb.\n",
      "Converted 02_data.load.ipynb.\n",
      "Converted 03_data.core.ipynb.\n",
      "Converted 05_nbeats.models.ipynb.\n",
      "Converted 06_nbeats.callbacks.ipynb.\n",
      "Converted 07_nbeats.learner.ipynb.\n",
      "Converted 08_nbeats.interpret.ipynb.\n",
      "Converted 11_metrics.ipynb.\n",
      "Converted 12_compare.ipynb.\n",
      "Converted index.ipynb.\n"
     ]
    }
   ],
   "source": [
    "# hide\n",
    "from nbdev.export import *\n",
    "notebook2script()"
   ]
  }
 ],
 "metadata": {
  "kernelspec": {
   "display_name": "Python 3",
   "language": "python",
   "name": "python3"
  }
 },
 "nbformat": 4,
 "nbformat_minor": 4
}
