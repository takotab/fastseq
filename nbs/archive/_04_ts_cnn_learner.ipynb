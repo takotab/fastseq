{
 "cells": [
  {
   "cell_type": "code",
   "execution_count": null,
   "metadata": {},
   "outputs": [],
   "source": [
    "# default_exp learner"
   ]
  },
  {
   "cell_type": "code",
   "execution_count": null,
   "metadata": {},
   "outputs": [],
   "source": [
    "# hide\n",
    "import sys\n",
    "sys.path.append(\"..\")\n",
    "\n",
    "import pandas as pd"
   ]
  },
  {
   "cell_type": "code",
   "execution_count": null,
   "metadata": {},
   "outputs": [],
   "source": [
    "# export\n",
    "from fastcore.all import *\n",
    "from fastai.basics import *\n",
    "from fastseq.data.all import *\n",
    "from torch.nn import Conv2d, Sequential, Module"
   ]
  },
  {
   "cell_type": "markdown",
   "metadata": {},
   "source": [
    "# Learner\n",
    "\n",
    "> A learner for time-series.\n",
    "\n"
   ]
  },
  {
   "cell_type": "code",
   "execution_count": null,
   "metadata": {},
   "outputs": [],
   "source": [
    "def ts_learner(data:TSDataLoaders, base_arch:Callable = models.resnet18, metrics=accuracy, \n",
    "                  cut:Union[int,Callable]=None, pretrained:bool=False, lin_ftrs=None, \n",
    "                  ps=0.5, custom_head:Optional[nn.Module]=None, split_on=None, \n",
    "                  bn_final:bool=False, init=nn.init.kaiming_normal_, concat_pool:bool=True, \n",
    "                  padding_mode:str='zeros', **kwargs) -> Learner:\n",
    "    '''Create a learner to apply a CNN model to Time series.'''\n",
    "    learn = cnn_learner(data, base_arch, cut=cut, metrics=metrics, pretrained=pretrained, loss_func=MSELossFlat(), config = {'ps':ps,\n",
    "                        'custom_head':custom_head, 'bn_final':bn_final, 'init':init,\n",
    "                        'concat_pool':concat_pool, **kwargs})\n",
    "#     channels = _calc_channels(data)\n",
    "    adapt_model(learn.model, 1, pretrained=pretrained, init=init, padding_mode=padding_mode)\n",
    "#     learn.unfreeze() # Model shouldn't be frozen, unlike vision\n",
    "    return learn"
   ]
  },
  {
   "cell_type": "markdown",
   "metadata": {},
   "source": [
    "# Intergration Example"
   ]
  },
  {
   "cell_type": "code",
   "execution_count": null,
   "metadata": {},
   "outputs": [
    {
     "name": "stdout",
     "output_type": "stream",
     "text": [
      "Train:56735; Valid: 100; Test 100\n"
     ]
    },
    {
     "ename": "NameError",
     "evalue": "name 'ts_learner' is not defined",
     "output_type": "error",
     "traceback": [
      "\u001b[0;31m---------------------------------------------------------------------------\u001b[0m",
      "\u001b[0;31mNameError\u001b[0m                                 Traceback (most recent call last)",
      "\u001b[0;32m<ipython-input-8-702275be16a3>\u001b[0m in \u001b[0;36m<module>\u001b[0;34m\u001b[0m\n\u001b[1;32m      1\u001b[0m \u001b[0mpath\u001b[0m \u001b[0;34m=\u001b[0m \u001b[0muntar_data\u001b[0m\u001b[0;34m(\u001b[0m\u001b[0mURLs\u001b[0m\u001b[0;34m.\u001b[0m\u001b[0mm4_daily\u001b[0m\u001b[0;34m)\u001b[0m\u001b[0;34m\u001b[0m\u001b[0;34m\u001b[0m\u001b[0m\n\u001b[1;32m      2\u001b[0m \u001b[0mdata\u001b[0m \u001b[0;34m=\u001b[0m \u001b[0mTSDataLoaders\u001b[0m\u001b[0;34m.\u001b[0m\u001b[0mfrom_folder\u001b[0m\u001b[0;34m(\u001b[0m\u001b[0mpath\u001b[0m\u001b[0;34m,\u001b[0m \u001b[0mnrows\u001b[0m\u001b[0;34m=\u001b[0m\u001b[0;36m100\u001b[0m\u001b[0;34m)\u001b[0m\u001b[0;34m\u001b[0m\u001b[0;34m\u001b[0m\u001b[0m\n\u001b[0;32m----> 3\u001b[0;31m \u001b[0mlearn\u001b[0m \u001b[0;34m=\u001b[0m \u001b[0mts_learner\u001b[0m\u001b[0;34m(\u001b[0m\u001b[0mdata\u001b[0m\u001b[0;34m)\u001b[0m\u001b[0;34m\u001b[0m\u001b[0;34m\u001b[0m\u001b[0m\n\u001b[0m",
      "\u001b[0;31mNameError\u001b[0m: name 'ts_learner' is not defined"
     ]
    }
   ],
   "source": [
    "path = untar_data(URLs.m4_daily)\n",
    "data = TSDataLoaders.from_folder(path, nrows=100)\n",
    "learn = ts_learner(data)\n"
   ]
  },
  {
   "cell_type": "code",
   "execution_count": null,
   "metadata": {},
   "outputs": [
    {
     "data": {
      "text/plain": [
       "array([[1017.1, 1019.3, 1017. , 1019.2, 1018.7, 1015.6, 1018.5, 1018.3,\n",
       "        1018.4, 1021.5, 1023. , 1023.3, 1020.5, 1021.4, 1018.1, 1022.6,\n",
       "        1022.6, 1021. , 1020.1, 1017. , 1019.3, 1017.3, 1016.1, 1017.8,\n",
       "        1019.3, 1025.1, 1024.8, 1025.1, 1025.1, 1022.6, 1021.2, 1017.2,\n",
       "        1041.5, 1041.7, 1038.9, 1041. , 1042.9, 1042.1, 1043.9, 1039. ,\n",
       "        1037.3, 1033.7, 1032.5, 1036.3, 1037.5, 1040. , 1038.4, 1035.3,\n",
       "        1032. , 1028.1, 1032.2, 1030.2, 1031.2, 1032.8, 1030.3, 1030.2,\n",
       "        1028.1, 1022.1, 1024.4, 1023.4, 1026.3, 1024. , 1026.1, 1031. ,\n",
       "        1037.6, 1036.6, 1037.4, 1035.4, 1038.9, 1038.7, 1036.5, 1036.4,\n",
       "        1036.8, 1035.3, 1032.6, 1029.3, 1031.3, 1027.4, 1028.6, 1025.8,\n",
       "        1026. , 1022.3, 1020.1, 1017.7, 1018. , 1023.2, 1024.2, 1020.5,\n",
       "        1022.2, 1025.3, 1023.3, 1035.3, 1036.7, 1035.1, 1032.5, 1028.7,\n",
       "        1028.1, 1025.6, 1027.9, 1025. , 1025.7, 1025. , 1023.7, 1025.5,\n",
       "        1025.8, 1030.5, 1035.1, 1034.2, 1032.2, 1033.6, 1045.6, 1040.3,\n",
       "        1035.9, 1035.4, 1031. , 1035.1, 1022.1, 1020.4, 1019.6, 1023.2,\n",
       "        1016.5, 1011.6, 1013.9, 1011.3, 1020.9, 1023.4, 1019.6, 1016.7,\n",
       "        1012. , 1012.7, 1010.7, 1002.5,  991.5,  992.9,  997.1, 1001.6,\n",
       "         997.2, 1001.9, 1011.7, 1005.7, 1018.7, 1016.5, 1018.3, 1014.8,\n",
       "        1011. , 1018.7, 1009.9, 1012.7, 1015. , 1010.4, 1099. , 1095.2,\n",
       "        1098.1, 1094.8, 1097.9, 1085.2, 1086. , 1088.2, 1088.6, 1085.8,\n",
       "        1080.4, 1077.2, 1075.7, 1080.3, 1081.6, 1080.3, 1094.8, 1097.2,\n",
       "        1096.2, 1095.4, 1093. , 1084.3, 1079.6, 1080.8, 1083.2, 1086.6,\n",
       "        1078.6, 1078.3, 1077.1, 1080.3, 1082.6, 1079.7, 1083.5, 1080. ,\n",
       "        1079.4, 1079.4, 1082.1, 1080.8, 1077.5, 1079.7, 1078.8, 1083.1,\n",
       "        1079.7, 1078.1, 1077.3, 1075.5, 1080.2, 1090.3, 1089.6, 1087.8,\n",
       "        1081.1, 1071.7, 1071.4, 1069.8, 1070.5, 1066.4, 1070.9, 1065.5,\n",
       "        1068.6, 1067.1, 1068.3, 1074.9, 1069.2, 1068.6, 1076.2, 1080.7,\n",
       "        1077.7, 1077.6, 1083.7, 1084.4, 1084.4, 1091.4, 1090.4, 1096.5,\n",
       "        1095. , 1096.9, 1099.8, 1096.1, 1094.3, 1098.9, 1099. , 1101.5,\n",
       "        1111.4, 1114.1, 1112.8, 1116.4, 1117.3, 1115. , 1113.1, 1114.6,\n",
       "        1118.2, 1117.8, 1116.3, 1116. , 1115.9, 1114.9, 1117.5, 1116.3,\n",
       "        1115.7, 1119.4, 1118.6, 1119.8, 1120.1, 1111.6, 1106.9, 1107.5,\n",
       "        1125.3, 1126.1, 1124.2, 1122.1, 1126.7, 1118.5, 1118.5, 1119.9,\n",
       "        1116. , 1117.5, 1115.3, 1114.5, 1117.7, 1109.1, 1107.7, 1106.6,\n",
       "        1104.6, 1109.9, 1108.7, 1108.7, 1106.4, 1113.9, 1112.2, 1112.3,\n",
       "        1117.7, 1118.5, 1119.5, 1117.4, 1117. , 1112.5, 1136.2, 1130.8,\n",
       "        1127.2, 1118.5, 1115.2, 1116.5, 1119.2, 1116.8, 1115.8, 1114.7,\n",
       "        1117.4, 1116.6, 1115.4, 1109.5, 1088.6, 1090. , 1078.4, 1091.6,\n",
       "        1096.3, 1200.3, 1199.6, 1192.8, 1192.7, 1203.9, 1199.6, 1209.2,\n",
       "        1206. , 1206.7, 1210.7, 1204. , 1193.6, 1196.5, 1197.2, 1194.3,\n",
       "        1197.5, 1192.2, 1194.7, 1192.8, 1203. , 1213.6, 1209.6, 1209.5,\n",
       "        1205.2, 1193.8, 1192.6, 1203.4, 1210.5, 1199.9, 1203.4, 1211.7,\n",
       "        1206. , 1211. , 1214.9, 1211. , 1213.5, 1214. , 1209.9, 1212.8,\n",
       "        1216. , 1232.4, 1255.6, 1253.1, 1256.1, 1251.4, 1259.9, 1258.5,\n",
       "        1262.5, 1261.7, 1269.9, 1259.5, 1233.2, 1234.4, 1236.9, 1235.2,\n",
       "        1262.2, 1249.4, 1252.1, 1251.8, 1258.4, 1252.2, 1252.9, 1250.1,\n",
       "        1257.1, 1258. , 1257.4, 1254.7, 1253.7, 1253.4, 1249.9, 1256.3,\n",
       "        1253.7, 1255.1, 1258.8, 1264.8, 1258.4, 1256.6, 1255.6, 1258.3,\n",
       "        1258.6, 1260.3, 1264.9, 1266.7, 1270.2, 1272.6, 1263.7, 1267.3,\n",
       "        1265.8, 1262.6, 1261.6, 1265.6, 1263.9, 1264.5, 1268.2, 1264.8,\n",
       "        1264.9, 1262.2, 1265.7, 1267. , 1271.8, 1274.3, 1274.5, 1282.7,\n",
       "        1282.7, 1284.8, 1293.4, 1296.7, 1305. , 1319.8, 1327.8, 1323.9,\n",
       "        1325.4, 1331.7, 1330.6, 1328. , 1326.6, 1327.5, 1331.6, 1327.7,\n",
       "        1330.9, 1326.6, 1331.3, 1337.1, 1339.2, 1345. , 1334.7, 1341.3,\n",
       "        1346.8, 1348.7, 1351.6, 1349.7, 1349.7, 1348.9, 1332.3, 1323.4,\n",
       "        1326.5, 1330.7, 1329.9, 1323.3, 1325. , 1333. , 1332.1, 1337.4,\n",
       "        1341.4, 1338.8, 1336.1, 1340.6, 1341.9, 1340.9, 1342.1, 1340.1,\n",
       "        1343.2, 1338.4, 1341.4, 1339.9, 1330. , 1334.5, 1337.6, 1334.2,\n",
       "        1345.5, 1346.1, 1345.7, 1353.5, 1356.2, 1352.2, 1352.8, 1351.6,\n",
       "        1356.6, 1353.6, 1355. , 1358.5, 1350.3, 1354.2, 1353.1, 1360.6,\n",
       "        1357.4, 1356.2, 1359.7, 1357. , 1363.2, 1368.8, 1371.9, 1375.8,\n",
       "        1382.1, 1378.6, 1378.3, 1378.1, 1383.2, 1386.5, 1389.6, 1391.1,\n",
       "        1397.4, 1399.8, 1392.1, 1389.9, 1388.5, 1395.1, 1394.5, 1398.1,\n",
       "        1394.3, 1395.5, 1394.7, 1395.8, 1397. , 1402.5, 1399.4, 1393. ,\n",
       "        1395.9, 1392.1, 1392.2, 1402.1, 1404.2, 1413.8, 1418.3, 1423.6,\n",
       "        1431.3, 1435.7, 1433.9, 1441.6, 1441.6, 1450.6, 1454.7, 1450. ,\n",
       "        1453.1, 1452.6, 1450.5, 1445.9, 1442.3, 1445.7, 1450.2, 1447.7,\n",
       "        1444.9, 1448. , 1446.1, 1446.5, 1446.9, 1437.4, 1439. , 1439.1,\n",
       "        1441. , 1442.4, 1436.1, 1438. , 1437.7, 1446.2, 1454.3, 1450.9,\n",
       "        1452.4, 1451. , 1459. , 1456.2, 1460.9, 1461.9, 1459.8, 1459.1,\n",
       "        1458.2, 1462. , 1459.7, 1463.1, 1466.5, 1463. , 1463.3, 1468.8,\n",
       "        1471.1, 1467.2, 1470.4, 1469.1, 1470.8, 1471.7, 1471.1, 1473.5,\n",
       "        1482.1, 1485.6, 1484.9, 1489.1, 1490.2, 1490.2, 1490.8, 1487.6,\n",
       "        1495.7, 1495.9, 1497.6, 1502.8, 1507.2, 1502.1, 1508.9, 1512.8,\n",
       "        1511. , 1508.9, 1509.6, 1510.9, 1509.1, 1509. , 1517.8, 1518.7,\n",
       "        1518.9, 1522.2, 1519.4, 1522.8, 1523.9, 1526.3, 1528.1, 1526.6,\n",
       "        1530. , 1530.2, 1523.5, 1525.4, 1518.4, 1520.3, 1523.7, 1524.7,\n",
       "        1525.2, 1530.4, 1530.5, 1531.3, 1532.3, 1527. , 1523.6, 1521. ,\n",
       "        1522.4, 1528.3, 1530.1, 1535.2, 1534.8, 1533.4, 1535.1, 1530.5,\n",
       "        1532. , 1534.1, 1535.8, 1532.6, 1536.7, 1539.2, 1538.6, 1539.2,\n",
       "        1541.4, 1538.7, 1541.4, 1534.4, 1523.3, 1526.5, 1526.8, 1526.9,\n",
       "        1523.4, 1526.3, 1528.4, 1524.3, 1528.1, 1526.2, 1519.7, 1524.8,\n",
       "        1530.3, 1528.9, 1535.6, 1536.1, 1540.6, 1534.8, 1533.5, 1535.9,\n",
       "        1542.3, 1544.3, 1544.6, 1542.9, 1545.7, 1548.2, 1541.7, 1539.6,\n",
       "        1544.2, 1544.7, 1546.5, 1547.1, 1550.3, 1549.2, 1549.4, 1551.9,\n",
       "        1556.6, 1564.1, 1570.5, 1570.4, 1572.9, 1572.3, 1572. , 1573.9,\n",
       "        1573.2, 1575.8, 1574. , 1571.8, 1567.3, 1574.2, 1580.2, 1583.5,\n",
       "        1582.8, 1583. , 1589.1, 1588.2, 1588.4, 1584.7, 1586.8, 1591.6,\n",
       "        1588.8, 1589.2, 1591.9, 1595.6, 1598. , 1599.1, 1599.6, 1595.4,\n",
       "        1589.3, 1592.4, 1591.6, 1585.9, 1587.9, 1586.6, 1591. , 1589.7,\n",
       "        1589.3, 1595.6, 1592.1, 1592.3, 1589.3, 1583.6, 1591.4, 1590.8,\n",
       "        1591.5, 1591. , 1589.5, 1587.2, 1586.7, 1589.7, 1596.5, 1605.1,\n",
       "        1606.2, 1613.1, 1614.5, 1617.8, 1633.7, 1632.8, 1636.4, 1624.4,\n",
       "        1631. , 1634.9, 1628.6, 1632.4, 1632. , 1638.8, 1635.5, 1640.9,\n",
       "        1646.7, 1649.2, 1647.4, 1648.4, 1651.3, 1649.3, 1610.6, 1609.6,\n",
       "        1624.9, 1622.3, 1628.9, 1636.1, 1637.7, 1641.3, 1646.7, 1653.5,\n",
       "        1651. , 1661.7, 1675.9, 1675.2, 1690.6, 1689.2, 1688.5, 1691.1,\n",
       "        1704.8, 1703.4, 1701.7, 1697. , 1700.4, 1699.5, 1703. , 1710.9,\n",
       "        1717. , 1712.3, 1722.8, 1732.2, 1740.2, 1743.7, 1749.9, 1756.4,\n",
       "        1745.3, 1747.5, 1745.5, 1738.9, 1743.2, 1739.3, 1757.7, 1757.7,\n",
       "        1759.6, 1770.2, 1772.3, 1779.7]])"
      ]
     },
     "execution_count": null,
     "metadata": {},
     "output_type": "execute_result"
    }
   ],
   "source": [
    "data.train_ds[0][0]"
   ]
  },
  {
   "cell_type": "code",
   "execution_count": null,
   "metadata": {},
   "outputs": [
    {
     "name": "stdout",
     "output_type": "stream",
     "text": [
      "(#3) [0,0.0,'00:00']\n"
     ]
    },
    {
     "ename": "RuntimeError",
     "evalue": "Expected 4-dimensional input for 4-dimensional weight 64 1 7 7, but got 3-dimensional input of size [16, 1, 3] instead",
     "output_type": "error",
     "traceback": [
      "\u001b[0;31m---------------------------------------------------------------------------\u001b[0m",
      "\u001b[0;31mRuntimeError\u001b[0m                              Traceback (most recent call last)",
      "\u001b[0;32m<ipython-input-18-8587f3539821>\u001b[0m in \u001b[0;36m<module>\u001b[0;34m\u001b[0m\n\u001b[0;32m----> 1\u001b[0;31m \u001b[0mlearn\u001b[0m\u001b[0;34m.\u001b[0m\u001b[0mfit\u001b[0m\u001b[0;34m(\u001b[0m\u001b[0;36m1\u001b[0m\u001b[0;34m)\u001b[0m\u001b[0;34m\u001b[0m\u001b[0;34m\u001b[0m\u001b[0m\n\u001b[0m",
      "\u001b[0;32m~/dev/fastai/fastai/learner.py\u001b[0m in \u001b[0;36mfit\u001b[0;34m(self, n_epoch, lr, wd, cbs, reset_opt)\u001b[0m\n\u001b[1;32m    286\u001b[0m                     \u001b[0;32mtry\u001b[0m\u001b[0;34m:\u001b[0m\u001b[0;34m\u001b[0m\u001b[0;34m\u001b[0m\u001b[0m\n\u001b[1;32m    287\u001b[0m                         \u001b[0mself\u001b[0m\u001b[0;34m.\u001b[0m\u001b[0mepoch\u001b[0m\u001b[0;34m=\u001b[0m\u001b[0mepoch\u001b[0m\u001b[0;34m;\u001b[0m          \u001b[0mself\u001b[0m\u001b[0;34m(\u001b[0m\u001b[0;34m'begin_epoch'\u001b[0m\u001b[0;34m)\u001b[0m\u001b[0;34m\u001b[0m\u001b[0;34m\u001b[0m\u001b[0m\n\u001b[0;32m--> 288\u001b[0;31m                         \u001b[0mself\u001b[0m\u001b[0;34m.\u001b[0m\u001b[0m_do_epoch_train\u001b[0m\u001b[0;34m(\u001b[0m\u001b[0;34m)\u001b[0m\u001b[0;34m\u001b[0m\u001b[0;34m\u001b[0m\u001b[0m\n\u001b[0m\u001b[1;32m    289\u001b[0m                         \u001b[0mself\u001b[0m\u001b[0;34m.\u001b[0m\u001b[0m_do_epoch_validate\u001b[0m\u001b[0;34m(\u001b[0m\u001b[0;34m)\u001b[0m\u001b[0;34m\u001b[0m\u001b[0;34m\u001b[0m\u001b[0m\n\u001b[1;32m    290\u001b[0m                     \u001b[0;32mexcept\u001b[0m \u001b[0mCancelEpochException\u001b[0m\u001b[0;34m:\u001b[0m   \u001b[0mself\u001b[0m\u001b[0;34m(\u001b[0m\u001b[0;34m'after_cancel_epoch'\u001b[0m\u001b[0;34m)\u001b[0m\u001b[0;34m\u001b[0m\u001b[0;34m\u001b[0m\u001b[0m\n",
      "\u001b[0;32m~/dev/fastai/fastai/learner.py\u001b[0m in \u001b[0;36m_do_epoch_train\u001b[0;34m(self)\u001b[0m\n\u001b[1;32m    261\u001b[0m         \u001b[0;32mtry\u001b[0m\u001b[0;34m:\u001b[0m\u001b[0;34m\u001b[0m\u001b[0;34m\u001b[0m\u001b[0m\n\u001b[1;32m    262\u001b[0m             \u001b[0mself\u001b[0m\u001b[0;34m.\u001b[0m\u001b[0mdl\u001b[0m \u001b[0;34m=\u001b[0m \u001b[0mself\u001b[0m\u001b[0;34m.\u001b[0m\u001b[0mdbunch\u001b[0m\u001b[0;34m.\u001b[0m\u001b[0mtrain_dl\u001b[0m\u001b[0;34m;\u001b[0m                  \u001b[0mself\u001b[0m\u001b[0;34m(\u001b[0m\u001b[0;34m'begin_train'\u001b[0m\u001b[0;34m)\u001b[0m\u001b[0;34m\u001b[0m\u001b[0;34m\u001b[0m\u001b[0m\n\u001b[0;32m--> 263\u001b[0;31m             \u001b[0mself\u001b[0m\u001b[0;34m.\u001b[0m\u001b[0mall_batches\u001b[0m\u001b[0;34m(\u001b[0m\u001b[0;34m)\u001b[0m\u001b[0;34m\u001b[0m\u001b[0;34m\u001b[0m\u001b[0m\n\u001b[0m\u001b[1;32m    264\u001b[0m         \u001b[0;32mexcept\u001b[0m \u001b[0mCancelTrainException\u001b[0m\u001b[0;34m:\u001b[0m                         \u001b[0mself\u001b[0m\u001b[0;34m(\u001b[0m\u001b[0;34m'after_cancel_train'\u001b[0m\u001b[0;34m)\u001b[0m\u001b[0;34m\u001b[0m\u001b[0;34m\u001b[0m\u001b[0m\n\u001b[1;32m    265\u001b[0m         \u001b[0;32mfinally\u001b[0m\u001b[0;34m:\u001b[0m                                             \u001b[0mself\u001b[0m\u001b[0;34m(\u001b[0m\u001b[0;34m'after_train'\u001b[0m\u001b[0;34m)\u001b[0m\u001b[0;34m\u001b[0m\u001b[0;34m\u001b[0m\u001b[0m\n",
      "\u001b[0;32m~/dev/fastai/fastai/learner.py\u001b[0m in \u001b[0;36mall_batches\u001b[0;34m(self)\u001b[0m\n\u001b[1;32m    239\u001b[0m     \u001b[0;32mdef\u001b[0m \u001b[0mall_batches\u001b[0m\u001b[0;34m(\u001b[0m\u001b[0mself\u001b[0m\u001b[0;34m)\u001b[0m\u001b[0;34m:\u001b[0m\u001b[0;34m\u001b[0m\u001b[0;34m\u001b[0m\u001b[0m\n\u001b[1;32m    240\u001b[0m         \u001b[0mself\u001b[0m\u001b[0;34m.\u001b[0m\u001b[0mn_iter\u001b[0m \u001b[0;34m=\u001b[0m \u001b[0mlen\u001b[0m\u001b[0;34m(\u001b[0m\u001b[0mself\u001b[0m\u001b[0;34m.\u001b[0m\u001b[0mdl\u001b[0m\u001b[0;34m)\u001b[0m\u001b[0;34m\u001b[0m\u001b[0;34m\u001b[0m\u001b[0m\n\u001b[0;32m--> 241\u001b[0;31m         \u001b[0;32mfor\u001b[0m \u001b[0mo\u001b[0m \u001b[0;32min\u001b[0m \u001b[0menumerate\u001b[0m\u001b[0;34m(\u001b[0m\u001b[0mself\u001b[0m\u001b[0;34m.\u001b[0m\u001b[0mdl\u001b[0m\u001b[0;34m)\u001b[0m\u001b[0;34m:\u001b[0m \u001b[0mself\u001b[0m\u001b[0;34m.\u001b[0m\u001b[0mone_batch\u001b[0m\u001b[0;34m(\u001b[0m\u001b[0;34m*\u001b[0m\u001b[0mo\u001b[0m\u001b[0;34m)\u001b[0m\u001b[0;34m\u001b[0m\u001b[0;34m\u001b[0m\u001b[0m\n\u001b[0m\u001b[1;32m    242\u001b[0m \u001b[0;34m\u001b[0m\u001b[0m\n\u001b[1;32m    243\u001b[0m     \u001b[0;32mdef\u001b[0m \u001b[0mone_batch\u001b[0m\u001b[0;34m(\u001b[0m\u001b[0mself\u001b[0m\u001b[0;34m,\u001b[0m \u001b[0mi\u001b[0m\u001b[0;34m,\u001b[0m \u001b[0mb\u001b[0m\u001b[0;34m)\u001b[0m\u001b[0;34m:\u001b[0m\u001b[0;34m\u001b[0m\u001b[0;34m\u001b[0m\u001b[0m\n",
      "\u001b[0;32m~/dev/fastai/fastai/learner.py\u001b[0m in \u001b[0;36mone_batch\u001b[0;34m(self, i, b)\u001b[0m\n\u001b[1;32m    245\u001b[0m         \u001b[0;32mtry\u001b[0m\u001b[0;34m:\u001b[0m\u001b[0;34m\u001b[0m\u001b[0;34m\u001b[0m\u001b[0m\n\u001b[1;32m    246\u001b[0m             \u001b[0mself\u001b[0m\u001b[0;34m.\u001b[0m\u001b[0m_split\u001b[0m\u001b[0;34m(\u001b[0m\u001b[0mb\u001b[0m\u001b[0;34m)\u001b[0m\u001b[0;34m;\u001b[0m                                  \u001b[0mself\u001b[0m\u001b[0;34m(\u001b[0m\u001b[0;34m'begin_batch'\u001b[0m\u001b[0;34m)\u001b[0m\u001b[0;34m\u001b[0m\u001b[0;34m\u001b[0m\u001b[0m\n\u001b[0;32m--> 247\u001b[0;31m             \u001b[0mself\u001b[0m\u001b[0;34m.\u001b[0m\u001b[0mpred\u001b[0m \u001b[0;34m=\u001b[0m \u001b[0mself\u001b[0m\u001b[0;34m.\u001b[0m\u001b[0mmodel\u001b[0m\u001b[0;34m(\u001b[0m\u001b[0;34m*\u001b[0m\u001b[0mself\u001b[0m\u001b[0;34m.\u001b[0m\u001b[0mxb\u001b[0m\u001b[0;34m)\u001b[0m\u001b[0;34m;\u001b[0m                \u001b[0mself\u001b[0m\u001b[0;34m(\u001b[0m\u001b[0;34m'after_pred'\u001b[0m\u001b[0;34m)\u001b[0m\u001b[0;34m\u001b[0m\u001b[0;34m\u001b[0m\u001b[0m\n\u001b[0m\u001b[1;32m    248\u001b[0m             \u001b[0;32mif\u001b[0m \u001b[0mlen\u001b[0m\u001b[0;34m(\u001b[0m\u001b[0mself\u001b[0m\u001b[0;34m.\u001b[0m\u001b[0myb\u001b[0m\u001b[0;34m)\u001b[0m \u001b[0;34m==\u001b[0m \u001b[0;36m0\u001b[0m\u001b[0;34m:\u001b[0m \u001b[0;32mreturn\u001b[0m\u001b[0;34m\u001b[0m\u001b[0;34m\u001b[0m\u001b[0m\n\u001b[1;32m    249\u001b[0m             \u001b[0mself\u001b[0m\u001b[0;34m.\u001b[0m\u001b[0mloss\u001b[0m \u001b[0;34m=\u001b[0m \u001b[0mself\u001b[0m\u001b[0;34m.\u001b[0m\u001b[0mloss_func\u001b[0m\u001b[0;34m(\u001b[0m\u001b[0mself\u001b[0m\u001b[0;34m.\u001b[0m\u001b[0mpred\u001b[0m\u001b[0;34m,\u001b[0m \u001b[0;34m*\u001b[0m\u001b[0mself\u001b[0m\u001b[0;34m.\u001b[0m\u001b[0myb\u001b[0m\u001b[0;34m)\u001b[0m\u001b[0;34m;\u001b[0m \u001b[0mself\u001b[0m\u001b[0;34m(\u001b[0m\u001b[0;34m'after_loss'\u001b[0m\u001b[0;34m)\u001b[0m\u001b[0;34m\u001b[0m\u001b[0;34m\u001b[0m\u001b[0m\n",
      "\u001b[0;32m~/dev/env37/lib/python3.7/site-packages/torch/nn/modules/module.py\u001b[0m in \u001b[0;36m__call__\u001b[0;34m(self, *input, **kwargs)\u001b[0m\n\u001b[1;32m    539\u001b[0m             \u001b[0mresult\u001b[0m \u001b[0;34m=\u001b[0m \u001b[0mself\u001b[0m\u001b[0;34m.\u001b[0m\u001b[0m_slow_forward\u001b[0m\u001b[0;34m(\u001b[0m\u001b[0;34m*\u001b[0m\u001b[0minput\u001b[0m\u001b[0;34m,\u001b[0m \u001b[0;34m**\u001b[0m\u001b[0mkwargs\u001b[0m\u001b[0;34m)\u001b[0m\u001b[0;34m\u001b[0m\u001b[0;34m\u001b[0m\u001b[0m\n\u001b[1;32m    540\u001b[0m         \u001b[0;32melse\u001b[0m\u001b[0;34m:\u001b[0m\u001b[0;34m\u001b[0m\u001b[0;34m\u001b[0m\u001b[0m\n\u001b[0;32m--> 541\u001b[0;31m             \u001b[0mresult\u001b[0m \u001b[0;34m=\u001b[0m \u001b[0mself\u001b[0m\u001b[0;34m.\u001b[0m\u001b[0mforward\u001b[0m\u001b[0;34m(\u001b[0m\u001b[0;34m*\u001b[0m\u001b[0minput\u001b[0m\u001b[0;34m,\u001b[0m \u001b[0;34m**\u001b[0m\u001b[0mkwargs\u001b[0m\u001b[0;34m)\u001b[0m\u001b[0;34m\u001b[0m\u001b[0;34m\u001b[0m\u001b[0m\n\u001b[0m\u001b[1;32m    542\u001b[0m         \u001b[0;32mfor\u001b[0m \u001b[0mhook\u001b[0m \u001b[0;32min\u001b[0m \u001b[0mself\u001b[0m\u001b[0;34m.\u001b[0m\u001b[0m_forward_hooks\u001b[0m\u001b[0;34m.\u001b[0m\u001b[0mvalues\u001b[0m\u001b[0;34m(\u001b[0m\u001b[0;34m)\u001b[0m\u001b[0;34m:\u001b[0m\u001b[0;34m\u001b[0m\u001b[0;34m\u001b[0m\u001b[0m\n\u001b[1;32m    543\u001b[0m             \u001b[0mhook_result\u001b[0m \u001b[0;34m=\u001b[0m \u001b[0mhook\u001b[0m\u001b[0;34m(\u001b[0m\u001b[0mself\u001b[0m\u001b[0;34m,\u001b[0m \u001b[0minput\u001b[0m\u001b[0;34m,\u001b[0m \u001b[0mresult\u001b[0m\u001b[0;34m)\u001b[0m\u001b[0;34m\u001b[0m\u001b[0;34m\u001b[0m\u001b[0m\n",
      "\u001b[0;32m~/dev/env37/lib/python3.7/site-packages/torch/nn/modules/container.py\u001b[0m in \u001b[0;36mforward\u001b[0;34m(self, input)\u001b[0m\n\u001b[1;32m     90\u001b[0m     \u001b[0;32mdef\u001b[0m \u001b[0mforward\u001b[0m\u001b[0;34m(\u001b[0m\u001b[0mself\u001b[0m\u001b[0;34m,\u001b[0m \u001b[0minput\u001b[0m\u001b[0;34m)\u001b[0m\u001b[0;34m:\u001b[0m\u001b[0;34m\u001b[0m\u001b[0;34m\u001b[0m\u001b[0m\n\u001b[1;32m     91\u001b[0m         \u001b[0;32mfor\u001b[0m \u001b[0mmodule\u001b[0m \u001b[0;32min\u001b[0m \u001b[0mself\u001b[0m\u001b[0;34m.\u001b[0m\u001b[0m_modules\u001b[0m\u001b[0;34m.\u001b[0m\u001b[0mvalues\u001b[0m\u001b[0;34m(\u001b[0m\u001b[0;34m)\u001b[0m\u001b[0;34m:\u001b[0m\u001b[0;34m\u001b[0m\u001b[0;34m\u001b[0m\u001b[0m\n\u001b[0;32m---> 92\u001b[0;31m             \u001b[0minput\u001b[0m \u001b[0;34m=\u001b[0m \u001b[0mmodule\u001b[0m\u001b[0;34m(\u001b[0m\u001b[0minput\u001b[0m\u001b[0;34m)\u001b[0m\u001b[0;34m\u001b[0m\u001b[0;34m\u001b[0m\u001b[0m\n\u001b[0m\u001b[1;32m     93\u001b[0m         \u001b[0;32mreturn\u001b[0m \u001b[0minput\u001b[0m\u001b[0;34m\u001b[0m\u001b[0;34m\u001b[0m\u001b[0m\n\u001b[1;32m     94\u001b[0m \u001b[0;34m\u001b[0m\u001b[0m\n",
      "\u001b[0;32m~/dev/env37/lib/python3.7/site-packages/torch/nn/modules/module.py\u001b[0m in \u001b[0;36m__call__\u001b[0;34m(self, *input, **kwargs)\u001b[0m\n\u001b[1;32m    539\u001b[0m             \u001b[0mresult\u001b[0m \u001b[0;34m=\u001b[0m \u001b[0mself\u001b[0m\u001b[0;34m.\u001b[0m\u001b[0m_slow_forward\u001b[0m\u001b[0;34m(\u001b[0m\u001b[0;34m*\u001b[0m\u001b[0minput\u001b[0m\u001b[0;34m,\u001b[0m \u001b[0;34m**\u001b[0m\u001b[0mkwargs\u001b[0m\u001b[0;34m)\u001b[0m\u001b[0;34m\u001b[0m\u001b[0;34m\u001b[0m\u001b[0m\n\u001b[1;32m    540\u001b[0m         \u001b[0;32melse\u001b[0m\u001b[0;34m:\u001b[0m\u001b[0;34m\u001b[0m\u001b[0;34m\u001b[0m\u001b[0m\n\u001b[0;32m--> 541\u001b[0;31m             \u001b[0mresult\u001b[0m \u001b[0;34m=\u001b[0m \u001b[0mself\u001b[0m\u001b[0;34m.\u001b[0m\u001b[0mforward\u001b[0m\u001b[0;34m(\u001b[0m\u001b[0;34m*\u001b[0m\u001b[0minput\u001b[0m\u001b[0;34m,\u001b[0m \u001b[0;34m**\u001b[0m\u001b[0mkwargs\u001b[0m\u001b[0;34m)\u001b[0m\u001b[0;34m\u001b[0m\u001b[0;34m\u001b[0m\u001b[0m\n\u001b[0m\u001b[1;32m    542\u001b[0m         \u001b[0;32mfor\u001b[0m \u001b[0mhook\u001b[0m \u001b[0;32min\u001b[0m \u001b[0mself\u001b[0m\u001b[0;34m.\u001b[0m\u001b[0m_forward_hooks\u001b[0m\u001b[0;34m.\u001b[0m\u001b[0mvalues\u001b[0m\u001b[0;34m(\u001b[0m\u001b[0;34m)\u001b[0m\u001b[0;34m:\u001b[0m\u001b[0;34m\u001b[0m\u001b[0;34m\u001b[0m\u001b[0m\n\u001b[1;32m    543\u001b[0m             \u001b[0mhook_result\u001b[0m \u001b[0;34m=\u001b[0m \u001b[0mhook\u001b[0m\u001b[0;34m(\u001b[0m\u001b[0mself\u001b[0m\u001b[0;34m,\u001b[0m \u001b[0minput\u001b[0m\u001b[0;34m,\u001b[0m \u001b[0mresult\u001b[0m\u001b[0;34m)\u001b[0m\u001b[0;34m\u001b[0m\u001b[0;34m\u001b[0m\u001b[0m\n",
      "\u001b[0;32m~/dev/env37/lib/python3.7/site-packages/torch/nn/modules/container.py\u001b[0m in \u001b[0;36mforward\u001b[0;34m(self, input)\u001b[0m\n\u001b[1;32m     90\u001b[0m     \u001b[0;32mdef\u001b[0m \u001b[0mforward\u001b[0m\u001b[0;34m(\u001b[0m\u001b[0mself\u001b[0m\u001b[0;34m,\u001b[0m \u001b[0minput\u001b[0m\u001b[0;34m)\u001b[0m\u001b[0;34m:\u001b[0m\u001b[0;34m\u001b[0m\u001b[0;34m\u001b[0m\u001b[0m\n\u001b[1;32m     91\u001b[0m         \u001b[0;32mfor\u001b[0m \u001b[0mmodule\u001b[0m \u001b[0;32min\u001b[0m \u001b[0mself\u001b[0m\u001b[0;34m.\u001b[0m\u001b[0m_modules\u001b[0m\u001b[0;34m.\u001b[0m\u001b[0mvalues\u001b[0m\u001b[0;34m(\u001b[0m\u001b[0;34m)\u001b[0m\u001b[0;34m:\u001b[0m\u001b[0;34m\u001b[0m\u001b[0;34m\u001b[0m\u001b[0m\n\u001b[0;32m---> 92\u001b[0;31m             \u001b[0minput\u001b[0m \u001b[0;34m=\u001b[0m \u001b[0mmodule\u001b[0m\u001b[0;34m(\u001b[0m\u001b[0minput\u001b[0m\u001b[0;34m)\u001b[0m\u001b[0;34m\u001b[0m\u001b[0;34m\u001b[0m\u001b[0m\n\u001b[0m\u001b[1;32m     93\u001b[0m         \u001b[0;32mreturn\u001b[0m \u001b[0minput\u001b[0m\u001b[0;34m\u001b[0m\u001b[0;34m\u001b[0m\u001b[0m\n\u001b[1;32m     94\u001b[0m \u001b[0;34m\u001b[0m\u001b[0m\n",
      "\u001b[0;32m~/dev/env37/lib/python3.7/site-packages/torch/nn/modules/module.py\u001b[0m in \u001b[0;36m__call__\u001b[0;34m(self, *input, **kwargs)\u001b[0m\n\u001b[1;32m    539\u001b[0m             \u001b[0mresult\u001b[0m \u001b[0;34m=\u001b[0m \u001b[0mself\u001b[0m\u001b[0;34m.\u001b[0m\u001b[0m_slow_forward\u001b[0m\u001b[0;34m(\u001b[0m\u001b[0;34m*\u001b[0m\u001b[0minput\u001b[0m\u001b[0;34m,\u001b[0m \u001b[0;34m**\u001b[0m\u001b[0mkwargs\u001b[0m\u001b[0;34m)\u001b[0m\u001b[0;34m\u001b[0m\u001b[0;34m\u001b[0m\u001b[0m\n\u001b[1;32m    540\u001b[0m         \u001b[0;32melse\u001b[0m\u001b[0;34m:\u001b[0m\u001b[0;34m\u001b[0m\u001b[0;34m\u001b[0m\u001b[0m\n\u001b[0;32m--> 541\u001b[0;31m             \u001b[0mresult\u001b[0m \u001b[0;34m=\u001b[0m \u001b[0mself\u001b[0m\u001b[0;34m.\u001b[0m\u001b[0mforward\u001b[0m\u001b[0;34m(\u001b[0m\u001b[0;34m*\u001b[0m\u001b[0minput\u001b[0m\u001b[0;34m,\u001b[0m \u001b[0;34m**\u001b[0m\u001b[0mkwargs\u001b[0m\u001b[0;34m)\u001b[0m\u001b[0;34m\u001b[0m\u001b[0;34m\u001b[0m\u001b[0m\n\u001b[0m\u001b[1;32m    542\u001b[0m         \u001b[0;32mfor\u001b[0m \u001b[0mhook\u001b[0m \u001b[0;32min\u001b[0m \u001b[0mself\u001b[0m\u001b[0;34m.\u001b[0m\u001b[0m_forward_hooks\u001b[0m\u001b[0;34m.\u001b[0m\u001b[0mvalues\u001b[0m\u001b[0;34m(\u001b[0m\u001b[0;34m)\u001b[0m\u001b[0;34m:\u001b[0m\u001b[0;34m\u001b[0m\u001b[0;34m\u001b[0m\u001b[0m\n\u001b[1;32m    543\u001b[0m             \u001b[0mhook_result\u001b[0m \u001b[0;34m=\u001b[0m \u001b[0mhook\u001b[0m\u001b[0;34m(\u001b[0m\u001b[0mself\u001b[0m\u001b[0;34m,\u001b[0m \u001b[0minput\u001b[0m\u001b[0;34m,\u001b[0m \u001b[0mresult\u001b[0m\u001b[0;34m)\u001b[0m\u001b[0;34m\u001b[0m\u001b[0;34m\u001b[0m\u001b[0m\n",
      "\u001b[0;32m~/dev/env37/lib/python3.7/site-packages/torch/nn/modules/conv.py\u001b[0m in \u001b[0;36mforward\u001b[0;34m(self, input)\u001b[0m\n\u001b[1;32m    343\u001b[0m \u001b[0;34m\u001b[0m\u001b[0m\n\u001b[1;32m    344\u001b[0m     \u001b[0;32mdef\u001b[0m \u001b[0mforward\u001b[0m\u001b[0;34m(\u001b[0m\u001b[0mself\u001b[0m\u001b[0;34m,\u001b[0m \u001b[0minput\u001b[0m\u001b[0;34m)\u001b[0m\u001b[0;34m:\u001b[0m\u001b[0;34m\u001b[0m\u001b[0;34m\u001b[0m\u001b[0m\n\u001b[0;32m--> 345\u001b[0;31m         \u001b[0;32mreturn\u001b[0m \u001b[0mself\u001b[0m\u001b[0;34m.\u001b[0m\u001b[0mconv2d_forward\u001b[0m\u001b[0;34m(\u001b[0m\u001b[0minput\u001b[0m\u001b[0;34m,\u001b[0m \u001b[0mself\u001b[0m\u001b[0;34m.\u001b[0m\u001b[0mweight\u001b[0m\u001b[0;34m)\u001b[0m\u001b[0;34m\u001b[0m\u001b[0;34m\u001b[0m\u001b[0m\n\u001b[0m\u001b[1;32m    346\u001b[0m \u001b[0;34m\u001b[0m\u001b[0m\n\u001b[1;32m    347\u001b[0m \u001b[0;32mclass\u001b[0m \u001b[0mConv3d\u001b[0m\u001b[0;34m(\u001b[0m\u001b[0m_ConvNd\u001b[0m\u001b[0;34m)\u001b[0m\u001b[0;34m:\u001b[0m\u001b[0;34m\u001b[0m\u001b[0;34m\u001b[0m\u001b[0m\n",
      "\u001b[0;32m~/dev/env37/lib/python3.7/site-packages/torch/nn/modules/conv.py\u001b[0m in \u001b[0;36mconv2d_forward\u001b[0;34m(self, input, weight)\u001b[0m\n\u001b[1;32m    340\u001b[0m                             _pair(0), self.dilation, self.groups)\n\u001b[1;32m    341\u001b[0m         return F.conv2d(input, weight, self.bias, self.stride,\n\u001b[0;32m--> 342\u001b[0;31m                         self.padding, self.dilation, self.groups)\n\u001b[0m\u001b[1;32m    343\u001b[0m \u001b[0;34m\u001b[0m\u001b[0m\n\u001b[1;32m    344\u001b[0m     \u001b[0;32mdef\u001b[0m \u001b[0mforward\u001b[0m\u001b[0;34m(\u001b[0m\u001b[0mself\u001b[0m\u001b[0;34m,\u001b[0m \u001b[0minput\u001b[0m\u001b[0;34m)\u001b[0m\u001b[0;34m:\u001b[0m\u001b[0;34m\u001b[0m\u001b[0;34m\u001b[0m\u001b[0m\n",
      "\u001b[0;31mRuntimeError\u001b[0m: Expected 4-dimensional input for 4-dimensional weight 64 1 7 7, but got 3-dimensional input of size [16, 1, 3] instead"
     ]
    }
   ],
   "source": [
    "learn.fit(1)"
   ]
  },
  {
   "cell_type": "code",
   "execution_count": null,
   "metadata": {},
   "outputs": [],
   "source": [
    "\n",
    "# def audio_predict(learn, item:AudioItem):\n",
    "#     '''Applies preprocessing to an AudioItem before predicting its class'''\n",
    "#     al = AudioList([item], path=item.path, config=learn.data.x.config).split_none().label_empty()\n",
    "#     ai = AudioList.open(al, item.path)\n",
    "#     return learn.predict(ai)   "
   ]
  },
  {
   "cell_type": "code",
   "execution_count": null,
   "metadata": {},
   "outputs": [
    {
     "name": "stdout",
     "output_type": "stream",
     "text": [
      "Converted 00_core.ipynb.\n",
      "Converted 01_data.external.ipynb.\n",
      "Converted 03_data.load.ipynb.\n",
      "Converted 04_data.transforms.ipynb.\n",
      "Converted 05_models.wavenet.ipynb.\n",
      "Converted 06_models.dnn.ipynb.\n",
      "Converted 08_metrics.ipynb.\n",
      "Converted index.ipynb.\n"
     ]
    }
   ],
   "source": [
    "# hide\n",
    "from nbdev.export import *\n",
    "\n",
    "notebook2script()"
   ]
  },
  {
   "cell_type": "code",
   "execution_count": null,
   "metadata": {},
   "outputs": [],
   "source": []
  }
 ],
 "metadata": {
  "kernelspec": {
   "display_name": "env37",
   "language": "python",
   "name": "env37"
  }
 },
 "nbformat": 4,
 "nbformat_minor": 4
}
