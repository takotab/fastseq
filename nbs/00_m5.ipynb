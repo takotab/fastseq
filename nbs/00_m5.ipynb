{
 "cells": [
  {
   "cell_type": "code",
   "execution_count": 1,
   "metadata": {},
   "outputs": [],
   "source": [
    "# default_exp m5"
   ]
  },
  {
   "cell_type": "code",
   "execution_count": 3,
   "metadata": {},
   "outputs": [
    {
     "name": "stderr",
     "output_type": "stream",
     "text": [
      "/home/tako/dev/env37/lib/python3.7/site-packages/pandas/compat/__init__.py:117: UserWarning: Could not import the lzma module. Your installed Python is incomplete. Attempting to use lzma compression will result in a RuntimeError.\n",
      "  warnings.warn(msg)\n"
     ]
    }
   ],
   "source": [
    "# hide\n",
    "import sys\n",
    "\n",
    "sys.path.append(\"..\")\n",
    "import pandas as pd"
   ]
  },
  {
   "cell_type": "code",
   "execution_count": 4,
   "metadata": {},
   "outputs": [],
   "source": [
    "# hide\n",
    "from nbdev.showdoc import *"
   ]
  },
  {
   "cell_type": "markdown",
   "metadata": {},
   "source": [
    "# Data M5\n",
    "\n",
    "> Getting the M5 data into a timerelevant dataloader.\n",
    "\n"
   ]
  },
  {
   "cell_type": "code",
   "execution_count": 9,
   "metadata": {},
   "outputs": [],
   "source": [
    "# export\n",
    "from fastcore.all import *\n",
    "from fastcore.imports import *\n",
    "from fastai2.basics import *\n",
    "from fastai2.data.transforms import *\n",
    "from fastai2.tabular.core import *\n",
    "# from fastseq.data.all import *\n",
    "from fastseq.core import *\n",
    "# from fastseq.data.all import *"
   ]
  },
  {
   "cell_type": "code",
   "execution_count": 10,
   "metadata": {},
   "outputs": [
    {
     "data": {
      "text/plain": [
       "(#10) [Path('../data/m5/sales_train_validation.csv'),Path('../data/m5/M5-Competitors-Guide_Final-1.pdf'),Path('../data/m5/sample_submission.csv'),Path('../data/m5/Screenshot from 2020-03-04 13-24-55.png'),Path('../data/m5/calendar.csv'),Path('../data/m5/prices'),Path('../data/m5/rows'),Path('../data/m5/Screenshot from 2020-03-04 13-25-42.png'),Path('../data/m5/calender_d.csv'),Path('../data/m5/sell_prices.csv')]"
      ]
     },
     "execution_count": 10,
     "metadata": {},
     "output_type": "execute_result"
    }
   ],
   "source": [
    "path = Path('../data/m5')\n",
    "path.ls()"
   ]
  },
  {
   "cell_type": "code",
   "execution_count": null,
   "metadata": {},
   "outputs": [],
   "source": [
    "df_cal = pd.read_csv(path / 'calendar.csv')\n",
    "df_cal.head()"
   ]
  },
  {
   "cell_type": "code",
   "execution_count": 5,
   "metadata": {},
   "outputs": [
    {
     "ename": "NameError",
     "evalue": "name 'df_cal' is not defined",
     "output_type": "error",
     "traceback": [
      "\u001b[0;31m---------------------------------------------------------------------------\u001b[0m",
      "\u001b[0;31mNameError\u001b[0m                                 Traceback (most recent call last)",
      "\u001b[0;32m<ipython-input-5-ce0e8ace27f8>\u001b[0m in \u001b[0;36m<module>\u001b[0;34m\u001b[0m\n\u001b[0;32m----> 1\u001b[0;31m \u001b[0mdf_cal\u001b[0m \u001b[0;34m=\u001b[0m \u001b[0mdf_cal\u001b[0m\u001b[0;34m[\u001b[0m\u001b[0;34m[\u001b[0m\u001b[0mc\u001b[0m \u001b[0;32mfor\u001b[0m \u001b[0mc\u001b[0m \u001b[0;32min\u001b[0m \u001b[0mlist\u001b[0m\u001b[0;34m(\u001b[0m\u001b[0mdf_cal\u001b[0m\u001b[0;34m.\u001b[0m\u001b[0mcolumns\u001b[0m\u001b[0;34m)\u001b[0m \u001b[0;32mif\u001b[0m \u001b[0;34m(\u001b[0m\u001b[0;34m'event'\u001b[0m \u001b[0;32mnot\u001b[0m \u001b[0;32min\u001b[0m \u001b[0mc\u001b[0m\u001b[0;34m)\u001b[0m\u001b[0;34m]\u001b[0m\u001b[0;34m]\u001b[0m\u001b[0;34m\u001b[0m\u001b[0;34m\u001b[0m\u001b[0m\n\u001b[0m\u001b[1;32m      2\u001b[0m \u001b[0mdf_cal\u001b[0m\u001b[0;34m.\u001b[0m\u001b[0mindex\u001b[0m \u001b[0;34m=\u001b[0m \u001b[0mdf_cal\u001b[0m\u001b[0;34m[\u001b[0m\u001b[0;34m'd'\u001b[0m\u001b[0;34m]\u001b[0m\u001b[0;34m\u001b[0m\u001b[0;34m\u001b[0m\u001b[0m\n\u001b[1;32m      3\u001b[0m \u001b[0mdf_cal\u001b[0m \u001b[0;34m=\u001b[0m \u001b[0mdf_cal\u001b[0m\u001b[0;34m.\u001b[0m\u001b[0mT\u001b[0m\u001b[0;34m\u001b[0m\u001b[0;34m\u001b[0m\u001b[0m\n\u001b[1;32m      4\u001b[0m \u001b[0mdf_cal\u001b[0m\u001b[0;34m\u001b[0m\u001b[0;34m\u001b[0m\u001b[0m\n",
      "\u001b[0;31mNameError\u001b[0m: name 'df_cal' is not defined"
     ]
    }
   ],
   "source": [
    "df_cal = df_cal[[c for c in list(df_cal.columns) if ('event' not in c)]]\n",
    "df_cal.index = df_cal['d']\n",
    "df_cal = df_cal.T\n",
    "df_cal"
   ]
  },
  {
   "cell_type": "code",
   "execution_count": null,
   "metadata": {},
   "outputs": [],
   "source": [
    "df_cal.T.to_csv(path / 'calender_d.csv')"
   ]
  },
  {
   "cell_type": "markdown",
   "metadata": {},
   "source": [
    "## price data"
   ]
  },
  {
   "cell_type": "code",
   "execution_count": null,
   "metadata": {},
   "outputs": [
    {
     "data": {
      "text/html": [
       "<div>\n",
       "<style scoped>\n",
       "    .dataframe tbody tr th:only-of-type {\n",
       "        vertical-align: middle;\n",
       "    }\n",
       "\n",
       "    .dataframe tbody tr th {\n",
       "        vertical-align: top;\n",
       "    }\n",
       "\n",
       "    .dataframe thead th {\n",
       "        text-align: right;\n",
       "    }\n",
       "</style>\n",
       "<table border=\"1\" class=\"dataframe\">\n",
       "  <thead>\n",
       "    <tr style=\"text-align: right;\">\n",
       "      <th></th>\n",
       "      <th>store_id</th>\n",
       "      <th>item_id</th>\n",
       "      <th>wm_yr_wk</th>\n",
       "      <th>sell_price</th>\n",
       "    </tr>\n",
       "  </thead>\n",
       "  <tbody>\n",
       "    <tr>\n",
       "      <th>0</th>\n",
       "      <td>CA_1</td>\n",
       "      <td>HOBBIES_1_001</td>\n",
       "      <td>11325</td>\n",
       "      <td>9.58</td>\n",
       "    </tr>\n",
       "    <tr>\n",
       "      <th>1</th>\n",
       "      <td>CA_1</td>\n",
       "      <td>HOBBIES_1_001</td>\n",
       "      <td>11326</td>\n",
       "      <td>9.58</td>\n",
       "    </tr>\n",
       "    <tr>\n",
       "      <th>2</th>\n",
       "      <td>CA_1</td>\n",
       "      <td>HOBBIES_1_001</td>\n",
       "      <td>11327</td>\n",
       "      <td>8.26</td>\n",
       "    </tr>\n",
       "    <tr>\n",
       "      <th>3</th>\n",
       "      <td>CA_1</td>\n",
       "      <td>HOBBIES_1_001</td>\n",
       "      <td>11328</td>\n",
       "      <td>8.26</td>\n",
       "    </tr>\n",
       "    <tr>\n",
       "      <th>4</th>\n",
       "      <td>CA_1</td>\n",
       "      <td>HOBBIES_1_001</td>\n",
       "      <td>11329</td>\n",
       "      <td>8.26</td>\n",
       "    </tr>\n",
       "  </tbody>\n",
       "</table>\n",
       "</div>"
      ],
      "text/plain": [
       "  store_id        item_id  wm_yr_wk  sell_price\n",
       "0     CA_1  HOBBIES_1_001     11325        9.58\n",
       "1     CA_1  HOBBIES_1_001     11326        9.58\n",
       "2     CA_1  HOBBIES_1_001     11327        8.26\n",
       "3     CA_1  HOBBIES_1_001     11328        8.26\n",
       "4     CA_1  HOBBIES_1_001     11329        8.26"
      ]
     },
     "execution_count": null,
     "metadata": {},
     "output_type": "execute_result"
    }
   ],
   "source": [
    "df_price = pd.read_csv(path / 'sell_prices.csv')\n",
    "df_price.head()"
   ]
  },
  {
   "cell_type": "code",
   "execution_count": null,
   "metadata": {},
   "outputs": [],
   "source": [
    "# export\n",
    "def add_days(df_sales, days = 28*2, fill = -1):\n",
    "    for i in range(days):\n",
    "        df_sales['d_'+str(i+1914)] = fill\n",
    "    return df_sales"
   ]
  },
  {
   "cell_type": "code",
   "execution_count": null,
   "metadata": {},
   "outputs": [],
   "source": [
    "# export\n",
    "@delegates(pd.Series.interpolate)\n",
    "def interpolate_w_starting_nan(s, **kwargs):\n",
    "    if s.iloc[0] != s.iloc[0]:\n",
    "        for i,o in enumerate(s != s):\n",
    "            if not o:\n",
    "                s.iloc[0] = s.iloc[i]\n",
    "                break\n",
    "    return s.interpolate(**kwargs)"
   ]
  },
  {
   "cell_type": "code",
   "execution_count": null,
   "metadata": {},
   "outputs": [
    {
     "data": {
      "text/plain": [
       "d0    0.0\n",
       "d1    0.0\n",
       "d2    0.0\n",
       "d3    0.0\n",
       "d4    1.0\n",
       "d5    2.0\n",
       "d6    3.0\n",
       "dtype: float64"
      ]
     },
     "execution_count": null,
     "metadata": {},
     "output_type": "execute_result"
    }
   ],
   "source": [
    "s = pd.Series([np.nan,np.nan,np.nan, 0, 2, np.nan, 6])\n",
    "s = interpolate_w_starting_nan(s)\n",
    "test_eq((s!=s).sum(),0)\n",
    "s = pd.Series([np.nan,np.nan,np.nan, 0, 1, np.nan, 3], index = ['d'+str(i) for i in range(7)])\n",
    "s = interpolate_w_starting_nan(s)\n",
    "test_eq((s!=s).sum(),0)\n",
    "s"
   ]
  },
  {
   "cell_type": "code",
   "execution_count": null,
   "metadata": {},
   "outputs": [
    {
     "data": {
      "text/plain": [
       "d_1       11101\n",
       "d_2       11101\n",
       "d_3       11101\n",
       "d_4       11101\n",
       "d_5       11101\n",
       "          ...  \n",
       "d_1965    11620\n",
       "d_1966    11620\n",
       "d_1967    11620\n",
       "d_1968    11621\n",
       "d_1969    11621\n",
       "Length: 1969, dtype: int64"
      ]
     },
     "execution_count": null,
     "metadata": {},
     "output_type": "execute_result"
    }
   ],
   "source": [
    "df_cal = pd.read_csv(path / 'calender_d.csv')\n",
    "df_cal.index = df_cal['d']\n",
    "d2wk = dict(df_cal.T.loc['wm_yr_wk',:])\n",
    "del df_cal\n",
    "pd.Series(d2wk)"
   ]
  },
  {
   "cell_type": "code",
   "execution_count": null,
   "metadata": {},
   "outputs": [],
   "source": [
    "# export\n",
    "def get_prices(df_price, store_id, item_id, method = 'linear'):    \n",
    "    _df = df_price[df_price['store_id'] == store_id]\n",
    "    _df = _df[_df['item_id'] == item_id]\n",
    "    _df['wm_yr_wk'] = _df['wm_yr_wk'].astype(int)\n",
    "    _df.index = _df['wm_yr_wk']\n",
    "    p = dict(_df['sell_price'])\n",
    "    wm_yr_wk = pd.Series({i:p[i] if i in p else np.nan for i in range(11100,11622)})\n",
    "    wm_yr_wk = interpolate_w_starting_nan(wm_yr_wk, method = method)\n",
    "    return wm_yr_wk"
   ]
  },
  {
   "cell_type": "code",
   "execution_count": null,
   "metadata": {},
   "outputs": [
    {
     "ename": "NameError",
     "evalue": "name 'df_price' is not defined",
     "output_type": "error",
     "traceback": [
      "\u001b[0;31m---------------------------------------------------------------------------\u001b[0m",
      "\u001b[0;31mNameError\u001b[0m                                 Traceback (most recent call last)",
      "\u001b[0;32m<ipython-input-66-4950e61b3eeb>\u001b[0m in \u001b[0;36m<module>\u001b[0;34m\u001b[0m\n\u001b[0;32m----> 1\u001b[0;31m \u001b[0mp\u001b[0m \u001b[0;34m=\u001b[0m \u001b[0mget_prices\u001b[0m\u001b[0;34m(\u001b[0m\u001b[0mdf_price\u001b[0m\u001b[0;34m,\u001b[0m \u001b[0;34m'CA_1'\u001b[0m\u001b[0;34m,\u001b[0m \u001b[0;34m'HOBBIES_1_001'\u001b[0m\u001b[0;34m)\u001b[0m\u001b[0;34m\u001b[0m\u001b[0;34m\u001b[0m\u001b[0m\n\u001b[0m\u001b[1;32m      2\u001b[0m \u001b[0mp\u001b[0m\u001b[0;34m\u001b[0m\u001b[0;34m\u001b[0m\u001b[0m\n",
      "\u001b[0;31mNameError\u001b[0m: name 'df_price' is not defined"
     ]
    }
   ],
   "source": [
    "p = get_prices(df_price, 'CA_1', 'HOBBIES_1_001')\n",
    "p"
   ]
  },
  {
   "cell_type": "code",
   "execution_count": null,
   "metadata": {},
   "outputs": [
    {
     "data": {
      "text/plain": [
       "0       9.58\n",
       "1       9.58\n",
       "2       9.58\n",
       "3       9.58\n",
       "4       9.58\n",
       "        ... \n",
       "1964    8.38\n",
       "1965    8.38\n",
       "1966    8.38\n",
       "1967    8.38\n",
       "1968    8.38\n",
       "Length: 1969, dtype: float64"
      ]
     },
     "execution_count": null,
     "metadata": {},
     "output_type": "execute_result"
    }
   ],
   "source": [
    "l = L()\n",
    "for i in range(1,1970):\n",
    "    l.append(p[d2wk['d_'+str(i)]])    \n",
    "pd.Series(l)"
   ]
  },
  {
   "cell_type": "code",
   "execution_count": null,
   "metadata": {},
   "outputs": [],
   "source": [
    "# export\n",
    "def _get_price_s(row, df_price):    \n",
    "    p = get_prices(df_price, row['store_id'], row['item_id'])\n",
    "    dct = {'store_id':row['store_id'],'item_id':row['item_id']}\n",
    "#     for i in range(1,1970):\n",
    "    dct.update({'d_'+str(i): p[d2wk['d_'+str(i)]] for i in range(1,1970)})\n",
    "    return dct"
   ]
  },
  {
   "cell_type": "code",
   "execution_count": null,
   "metadata": {},
   "outputs": [],
   "source": [
    "df_price = pd.read_csv(path / 'sell_prices.csv')"
   ]
  },
  {
   "cell_type": "code",
   "execution_count": null,
   "metadata": {},
   "outputs": [],
   "source": [
    "# (path / 'prices').mkdir()\n",
    "# for j, store_id in enumerate(set(df_price['store_id'])):\n",
    "#     _df = df_price[df_price['store_id'] == store_id]\n",
    "#     for i, item_id in enumerate(set(_df['item_id'])):\n",
    "#         df_item = _df[_df['item_id'] == item_id]        \n",
    "#         p = get_prices(df_item, store_id, item_id)\n",
    "#         dct = {'store_id':store_id,'item_id':item_id}\n",
    "#         for i in range(1,1970):\n",
    "#             dct['d_'+str(i)] = p[d2wk['d_'+str(i)]]  \n",
    "#         json.dump(dct, open(path / 'prices' / str(store_id+'_'+item_id +'.csv'),'w'))   \n",
    "#         if i % 100 == 0:\n",
    "#             print(f\"{j}/10\\t{i}/3049\")"
   ]
  },
  {
   "cell_type": "code",
   "execution_count": null,
   "metadata": {},
   "outputs": [],
   "source": [
    "# export\n",
    "import csv\n",
    "def csv_gen(file):\n",
    "    with open(file, 'r') as f:\n",
    "        reader = csv.reader(f)\n",
    "        header = next(reader)\n",
    "        for row in reader:\n",
    "            yield {k:v for k,v in zip(header,row)}"
   ]
  },
  {
   "cell_type": "code",
   "execution_count": null,
   "metadata": {},
   "outputs": [],
   "source": [
    "for o in csv_gen(path / 'calender_d.csv') :\n",
    "    test_eq(type(o), dict)\n",
    "    test_eq(o.keys(),{'d': 'd_1', 'date': '2011-01-29',\n",
    "                     'wm_yr_wk': '11101', 'weekday': 'Saturday',\n",
    "                     'wday': '1', 'month': '1', 'year': '2011',\n",
    "                     'snap_CA': '0', 'snap_TX': '0', 'snap_WI': '0'}.keys())\n",
    " "
   ]
  },
  {
   "cell_type": "code",
   "execution_count": null,
   "metadata": {},
   "outputs": [
    {
     "ename": "TypeError",
     "evalue": "_get_price_s() missing 1 required positional argument: 'df_price'",
     "output_type": "error",
     "traceback": [
      "\u001b[0;31m---------------------------------------------------------------------------\u001b[0m",
      "\u001b[0;31mTypeError\u001b[0m                                 Traceback (most recent call last)",
      "\u001b[0;32m<ipython-input-45-045594439710>\u001b[0m in \u001b[0;36m<module>\u001b[0;34m\u001b[0m\n\u001b[1;32m      5\u001b[0m     \u001b[0mdf_price\u001b[0m \u001b[0;34m=\u001b[0m \u001b[0mpd\u001b[0m\u001b[0;34m.\u001b[0m\u001b[0mread_csv\u001b[0m\u001b[0;34m(\u001b[0m\u001b[0mpath\u001b[0m \u001b[0;34m/\u001b[0m \u001b[0;34m'sell_prices.csv'\u001b[0m\u001b[0;34m)\u001b[0m\u001b[0;34m\u001b[0m\u001b[0;34m\u001b[0m\u001b[0m\n\u001b[1;32m      6\u001b[0m     prices = pool.map(_get_price_s,  (csv_gen(path / 'sales_train_validation.csv'),\n\u001b[0;32m----> 7\u001b[0;31m                                       df_price))\n\u001b[0m\u001b[1;32m      8\u001b[0m     \u001b[0mprices\u001b[0m \u001b[0;34m=\u001b[0m \u001b[0mpd\u001b[0m\u001b[0;34m.\u001b[0m\u001b[0mDataFrame\u001b[0m\u001b[0;34m(\u001b[0m\u001b[0mprices\u001b[0m\u001b[0;34m)\u001b[0m\u001b[0;34m\u001b[0m\u001b[0;34m\u001b[0m\u001b[0m\n\u001b[1;32m      9\u001b[0m     \u001b[0mprices\u001b[0m\u001b[0;34m.\u001b[0m\u001b[0mto_csv\u001b[0m\u001b[0;34m(\u001b[0m\u001b[0mpath\u001b[0m \u001b[0;34m/\u001b[0m \u001b[0;34m'prices.csv'\u001b[0m\u001b[0;34m,\u001b[0m\u001b[0mindex\u001b[0m\u001b[0;34m=\u001b[0m\u001b[0;32mFalse\u001b[0m\u001b[0;34m)\u001b[0m\u001b[0;34m\u001b[0m\u001b[0;34m\u001b[0m\u001b[0m\n",
      "\u001b[0;32m/usr/local/lib/python3.7/multiprocessing/pool.py\u001b[0m in \u001b[0;36mmap\u001b[0;34m(self, func, iterable, chunksize)\u001b[0m\n\u001b[1;32m    266\u001b[0m         \u001b[0;32min\u001b[0m \u001b[0ma\u001b[0m \u001b[0mlist\u001b[0m \u001b[0mthat\u001b[0m \u001b[0;32mis\u001b[0m \u001b[0mreturned\u001b[0m\u001b[0;34m.\u001b[0m\u001b[0;34m\u001b[0m\u001b[0;34m\u001b[0m\u001b[0m\n\u001b[1;32m    267\u001b[0m         '''\n\u001b[0;32m--> 268\u001b[0;31m         \u001b[0;32mreturn\u001b[0m \u001b[0mself\u001b[0m\u001b[0;34m.\u001b[0m\u001b[0m_map_async\u001b[0m\u001b[0;34m(\u001b[0m\u001b[0mfunc\u001b[0m\u001b[0;34m,\u001b[0m \u001b[0miterable\u001b[0m\u001b[0;34m,\u001b[0m \u001b[0mmapstar\u001b[0m\u001b[0;34m,\u001b[0m \u001b[0mchunksize\u001b[0m\u001b[0;34m)\u001b[0m\u001b[0;34m.\u001b[0m\u001b[0mget\u001b[0m\u001b[0;34m(\u001b[0m\u001b[0;34m)\u001b[0m\u001b[0;34m\u001b[0m\u001b[0;34m\u001b[0m\u001b[0m\n\u001b[0m\u001b[1;32m    269\u001b[0m \u001b[0;34m\u001b[0m\u001b[0m\n\u001b[1;32m    270\u001b[0m     \u001b[0;32mdef\u001b[0m \u001b[0mstarmap\u001b[0m\u001b[0;34m(\u001b[0m\u001b[0mself\u001b[0m\u001b[0;34m,\u001b[0m \u001b[0mfunc\u001b[0m\u001b[0;34m,\u001b[0m \u001b[0miterable\u001b[0m\u001b[0;34m,\u001b[0m \u001b[0mchunksize\u001b[0m\u001b[0;34m=\u001b[0m\u001b[0;32mNone\u001b[0m\u001b[0;34m)\u001b[0m\u001b[0;34m:\u001b[0m\u001b[0;34m\u001b[0m\u001b[0;34m\u001b[0m\u001b[0m\n",
      "\u001b[0;32m/usr/local/lib/python3.7/multiprocessing/pool.py\u001b[0m in \u001b[0;36mget\u001b[0;34m(self, timeout)\u001b[0m\n\u001b[1;32m    655\u001b[0m             \u001b[0;32mreturn\u001b[0m \u001b[0mself\u001b[0m\u001b[0;34m.\u001b[0m\u001b[0m_value\u001b[0m\u001b[0;34m\u001b[0m\u001b[0;34m\u001b[0m\u001b[0m\n\u001b[1;32m    656\u001b[0m         \u001b[0;32melse\u001b[0m\u001b[0;34m:\u001b[0m\u001b[0;34m\u001b[0m\u001b[0;34m\u001b[0m\u001b[0m\n\u001b[0;32m--> 657\u001b[0;31m             \u001b[0;32mraise\u001b[0m \u001b[0mself\u001b[0m\u001b[0;34m.\u001b[0m\u001b[0m_value\u001b[0m\u001b[0;34m\u001b[0m\u001b[0;34m\u001b[0m\u001b[0m\n\u001b[0m\u001b[1;32m    658\u001b[0m \u001b[0;34m\u001b[0m\u001b[0m\n\u001b[1;32m    659\u001b[0m     \u001b[0;32mdef\u001b[0m \u001b[0m_set\u001b[0m\u001b[0;34m(\u001b[0m\u001b[0mself\u001b[0m\u001b[0;34m,\u001b[0m \u001b[0mi\u001b[0m\u001b[0;34m,\u001b[0m \u001b[0mobj\u001b[0m\u001b[0;34m)\u001b[0m\u001b[0;34m:\u001b[0m\u001b[0;34m\u001b[0m\u001b[0;34m\u001b[0m\u001b[0m\n",
      "\u001b[0;32m/usr/local/lib/python3.7/multiprocessing/pool.py\u001b[0m in \u001b[0;36mworker\u001b[0;34m(inqueue, outqueue, initializer, initargs, maxtasks, wrap_exception)\u001b[0m\n\u001b[1;32m    119\u001b[0m         \u001b[0mjob\u001b[0m\u001b[0;34m,\u001b[0m \u001b[0mi\u001b[0m\u001b[0;34m,\u001b[0m \u001b[0mfunc\u001b[0m\u001b[0;34m,\u001b[0m \u001b[0margs\u001b[0m\u001b[0;34m,\u001b[0m \u001b[0mkwds\u001b[0m \u001b[0;34m=\u001b[0m \u001b[0mtask\u001b[0m\u001b[0;34m\u001b[0m\u001b[0;34m\u001b[0m\u001b[0m\n\u001b[1;32m    120\u001b[0m         \u001b[0;32mtry\u001b[0m\u001b[0;34m:\u001b[0m\u001b[0;34m\u001b[0m\u001b[0;34m\u001b[0m\u001b[0m\n\u001b[0;32m--> 121\u001b[0;31m             \u001b[0mresult\u001b[0m \u001b[0;34m=\u001b[0m \u001b[0;34m(\u001b[0m\u001b[0;32mTrue\u001b[0m\u001b[0;34m,\u001b[0m \u001b[0mfunc\u001b[0m\u001b[0;34m(\u001b[0m\u001b[0;34m*\u001b[0m\u001b[0margs\u001b[0m\u001b[0;34m,\u001b[0m \u001b[0;34m**\u001b[0m\u001b[0mkwds\u001b[0m\u001b[0;34m)\u001b[0m\u001b[0;34m)\u001b[0m\u001b[0;34m\u001b[0m\u001b[0;34m\u001b[0m\u001b[0m\n\u001b[0m\u001b[1;32m    122\u001b[0m         \u001b[0;32mexcept\u001b[0m \u001b[0mException\u001b[0m \u001b[0;32mas\u001b[0m \u001b[0me\u001b[0m\u001b[0;34m:\u001b[0m\u001b[0;34m\u001b[0m\u001b[0;34m\u001b[0m\u001b[0m\n\u001b[1;32m    123\u001b[0m             \u001b[0;32mif\u001b[0m \u001b[0mwrap_exception\u001b[0m \u001b[0;32mand\u001b[0m \u001b[0mfunc\u001b[0m \u001b[0;32mis\u001b[0m \u001b[0;32mnot\u001b[0m \u001b[0m_helper_reraises_exception\u001b[0m\u001b[0;34m:\u001b[0m\u001b[0;34m\u001b[0m\u001b[0;34m\u001b[0m\u001b[0m\n",
      "\u001b[0;32m/usr/local/lib/python3.7/multiprocessing/pool.py\u001b[0m in \u001b[0;36mmapstar\u001b[0;34m(args)\u001b[0m\n\u001b[1;32m     42\u001b[0m \u001b[0;34m\u001b[0m\u001b[0m\n\u001b[1;32m     43\u001b[0m \u001b[0;32mdef\u001b[0m \u001b[0mmapstar\u001b[0m\u001b[0;34m(\u001b[0m\u001b[0margs\u001b[0m\u001b[0;34m)\u001b[0m\u001b[0;34m:\u001b[0m\u001b[0;34m\u001b[0m\u001b[0;34m\u001b[0m\u001b[0m\n\u001b[0;32m---> 44\u001b[0;31m     \u001b[0;32mreturn\u001b[0m \u001b[0mlist\u001b[0m\u001b[0;34m(\u001b[0m\u001b[0mmap\u001b[0m\u001b[0;34m(\u001b[0m\u001b[0;34m*\u001b[0m\u001b[0margs\u001b[0m\u001b[0;34m)\u001b[0m\u001b[0;34m)\u001b[0m\u001b[0;34m\u001b[0m\u001b[0;34m\u001b[0m\u001b[0m\n\u001b[0m\u001b[1;32m     45\u001b[0m \u001b[0;34m\u001b[0m\u001b[0m\n\u001b[1;32m     46\u001b[0m \u001b[0;32mdef\u001b[0m \u001b[0mstarmapstar\u001b[0m\u001b[0;34m(\u001b[0m\u001b[0margs\u001b[0m\u001b[0;34m)\u001b[0m\u001b[0;34m:\u001b[0m\u001b[0;34m\u001b[0m\u001b[0;34m\u001b[0m\u001b[0m\n",
      "\u001b[0;31mTypeError\u001b[0m: _get_price_s() missing 1 required positional argument: 'df_price'"
     ]
    }
   ],
   "source": [
    "import os\n",
    "if not os.path.isfile(path / 'prices.csv'):\n",
    "    from multiprocessing.dummy import Pool as ThreadPool\n",
    "    pool = ThreadPool(10)\n",
    "    df_price = pd.read_csv(path / 'sell_prices.csv')\n",
    "    prices = pool.map(_get_price_s,  (csv_gen(path / 'sales_train_validation.csv'),\n",
    "                                      df_price))\n",
    "    prices = pd.DataFrame(prices)\n",
    "    prices.to_csv(path / 'prices.csv',index=False)\n",
    "prices = pd.read_csv(path / 'prices.csv')\n",
    "prices.head()"
   ]
  },
  {
   "cell_type": "markdown",
   "metadata": {},
   "source": [
    "## M5"
   ]
  },
  {
   "cell_type": "code",
   "execution_count": null,
   "metadata": {},
   "outputs": [
    {
     "data": {
      "text/html": [
       "<div>\n",
       "<style scoped>\n",
       "    .dataframe tbody tr th:only-of-type {\n",
       "        vertical-align: middle;\n",
       "    }\n",
       "\n",
       "    .dataframe tbody tr th {\n",
       "        vertical-align: top;\n",
       "    }\n",
       "\n",
       "    .dataframe thead th {\n",
       "        text-align: right;\n",
       "    }\n",
       "</style>\n",
       "<table border=\"1\" class=\"dataframe\">\n",
       "  <thead>\n",
       "    <tr style=\"text-align: right;\">\n",
       "      <th></th>\n",
       "      <th>date</th>\n",
       "      <th>wm_yr_wk</th>\n",
       "      <th>weekday</th>\n",
       "      <th>wday</th>\n",
       "      <th>month</th>\n",
       "      <th>year</th>\n",
       "      <th>d.1</th>\n",
       "      <th>snap_CA</th>\n",
       "      <th>snap_TX</th>\n",
       "      <th>snap_WI</th>\n",
       "    </tr>\n",
       "    <tr>\n",
       "      <th>d</th>\n",
       "      <th></th>\n",
       "      <th></th>\n",
       "      <th></th>\n",
       "      <th></th>\n",
       "      <th></th>\n",
       "      <th></th>\n",
       "      <th></th>\n",
       "      <th></th>\n",
       "      <th></th>\n",
       "      <th></th>\n",
       "    </tr>\n",
       "  </thead>\n",
       "  <tbody>\n",
       "    <tr>\n",
       "      <th>d_1</th>\n",
       "      <td>2011-01-29</td>\n",
       "      <td>11101</td>\n",
       "      <td>Saturday</td>\n",
       "      <td>1</td>\n",
       "      <td>1</td>\n",
       "      <td>2011</td>\n",
       "      <td>d_1</td>\n",
       "      <td>0</td>\n",
       "      <td>0</td>\n",
       "      <td>0</td>\n",
       "    </tr>\n",
       "    <tr>\n",
       "      <th>d_2</th>\n",
       "      <td>2011-01-30</td>\n",
       "      <td>11101</td>\n",
       "      <td>Sunday</td>\n",
       "      <td>2</td>\n",
       "      <td>1</td>\n",
       "      <td>2011</td>\n",
       "      <td>d_2</td>\n",
       "      <td>0</td>\n",
       "      <td>0</td>\n",
       "      <td>0</td>\n",
       "    </tr>\n",
       "    <tr>\n",
       "      <th>d_3</th>\n",
       "      <td>2011-01-31</td>\n",
       "      <td>11101</td>\n",
       "      <td>Monday</td>\n",
       "      <td>3</td>\n",
       "      <td>1</td>\n",
       "      <td>2011</td>\n",
       "      <td>d_3</td>\n",
       "      <td>0</td>\n",
       "      <td>0</td>\n",
       "      <td>0</td>\n",
       "    </tr>\n",
       "    <tr>\n",
       "      <th>d_4</th>\n",
       "      <td>2011-02-01</td>\n",
       "      <td>11101</td>\n",
       "      <td>Tuesday</td>\n",
       "      <td>4</td>\n",
       "      <td>2</td>\n",
       "      <td>2011</td>\n",
       "      <td>d_4</td>\n",
       "      <td>1</td>\n",
       "      <td>1</td>\n",
       "      <td>0</td>\n",
       "    </tr>\n",
       "    <tr>\n",
       "      <th>d_5</th>\n",
       "      <td>2011-02-02</td>\n",
       "      <td>11101</td>\n",
       "      <td>Wednesday</td>\n",
       "      <td>5</td>\n",
       "      <td>2</td>\n",
       "      <td>2011</td>\n",
       "      <td>d_5</td>\n",
       "      <td>1</td>\n",
       "      <td>0</td>\n",
       "      <td>1</td>\n",
       "    </tr>\n",
       "    <tr>\n",
       "      <th>...</th>\n",
       "      <td>...</td>\n",
       "      <td>...</td>\n",
       "      <td>...</td>\n",
       "      <td>...</td>\n",
       "      <td>...</td>\n",
       "      <td>...</td>\n",
       "      <td>...</td>\n",
       "      <td>...</td>\n",
       "      <td>...</td>\n",
       "      <td>...</td>\n",
       "    </tr>\n",
       "    <tr>\n",
       "      <th>d_1965</th>\n",
       "      <td>2016-06-15</td>\n",
       "      <td>11620</td>\n",
       "      <td>Wednesday</td>\n",
       "      <td>5</td>\n",
       "      <td>6</td>\n",
       "      <td>2016</td>\n",
       "      <td>d_1965</td>\n",
       "      <td>0</td>\n",
       "      <td>1</td>\n",
       "      <td>1</td>\n",
       "    </tr>\n",
       "    <tr>\n",
       "      <th>d_1966</th>\n",
       "      <td>2016-06-16</td>\n",
       "      <td>11620</td>\n",
       "      <td>Thursday</td>\n",
       "      <td>6</td>\n",
       "      <td>6</td>\n",
       "      <td>2016</td>\n",
       "      <td>d_1966</td>\n",
       "      <td>0</td>\n",
       "      <td>0</td>\n",
       "      <td>0</td>\n",
       "    </tr>\n",
       "    <tr>\n",
       "      <th>d_1967</th>\n",
       "      <td>2016-06-17</td>\n",
       "      <td>11620</td>\n",
       "      <td>Friday</td>\n",
       "      <td>7</td>\n",
       "      <td>6</td>\n",
       "      <td>2016</td>\n",
       "      <td>d_1967</td>\n",
       "      <td>0</td>\n",
       "      <td>0</td>\n",
       "      <td>0</td>\n",
       "    </tr>\n",
       "    <tr>\n",
       "      <th>d_1968</th>\n",
       "      <td>2016-06-18</td>\n",
       "      <td>11621</td>\n",
       "      <td>Saturday</td>\n",
       "      <td>1</td>\n",
       "      <td>6</td>\n",
       "      <td>2016</td>\n",
       "      <td>d_1968</td>\n",
       "      <td>0</td>\n",
       "      <td>0</td>\n",
       "      <td>0</td>\n",
       "    </tr>\n",
       "    <tr>\n",
       "      <th>d_1969</th>\n",
       "      <td>2016-06-19</td>\n",
       "      <td>11621</td>\n",
       "      <td>Sunday</td>\n",
       "      <td>2</td>\n",
       "      <td>6</td>\n",
       "      <td>2016</td>\n",
       "      <td>d_1969</td>\n",
       "      <td>0</td>\n",
       "      <td>0</td>\n",
       "      <td>0</td>\n",
       "    </tr>\n",
       "  </tbody>\n",
       "</table>\n",
       "<p>1969 rows × 10 columns</p>\n",
       "</div>"
      ],
      "text/plain": [
       "              date  wm_yr_wk    weekday  wday  month  year     d.1  snap_CA  \\\n",
       "d                                                                             \n",
       "d_1     2011-01-29     11101   Saturday     1      1  2011     d_1        0   \n",
       "d_2     2011-01-30     11101     Sunday     2      1  2011     d_2        0   \n",
       "d_3     2011-01-31     11101     Monday     3      1  2011     d_3        0   \n",
       "d_4     2011-02-01     11101    Tuesday     4      2  2011     d_4        1   \n",
       "d_5     2011-02-02     11101  Wednesday     5      2  2011     d_5        1   \n",
       "...            ...       ...        ...   ...    ...   ...     ...      ...   \n",
       "d_1965  2016-06-15     11620  Wednesday     5      6  2016  d_1965        0   \n",
       "d_1966  2016-06-16     11620   Thursday     6      6  2016  d_1966        0   \n",
       "d_1967  2016-06-17     11620     Friday     7      6  2016  d_1967        0   \n",
       "d_1968  2016-06-18     11621   Saturday     1      6  2016  d_1968        0   \n",
       "d_1969  2016-06-19     11621     Sunday     2      6  2016  d_1969        0   \n",
       "\n",
       "        snap_TX  snap_WI  \n",
       "d                         \n",
       "d_1           0        0  \n",
       "d_2           0        0  \n",
       "d_3           0        0  \n",
       "d_4           1        0  \n",
       "d_5           0        1  \n",
       "...         ...      ...  \n",
       "d_1965        1        1  \n",
       "d_1966        0        0  \n",
       "d_1967        0        0  \n",
       "d_1968        0        0  \n",
       "d_1969        0        0  \n",
       "\n",
       "[1969 rows x 10 columns]"
      ]
     },
     "execution_count": null,
     "metadata": {},
     "output_type": "execute_result"
    }
   ],
   "source": [
    "df_cal = pd.read_csv(path / 'calender_d.csv')\n",
    "df_cal.index = df_cal['d']\n",
    "del df_cal['d']\n",
    "df_cal"
   ]
  },
  {
   "cell_type": "code",
   "execution_count": null,
   "metadata": {},
   "outputs": [],
   "source": [
    "# export\n",
    "def _slice_series(dct, s_slice=None, add_zeros = 28*2):\n",
    "    s_slice = ifnone(s_slice, slice(6,None))\n",
    "    return [float(o) for k,o in dct.items() if ('d_' in k or 'F' in k)]+[0]*add_zeros\n",
    "# @delegates(_to_series)\n",
    "def to_contained_series(dct, series_column_name = 'sales', **kwargs):    \n",
    "    data={k:v for k,v in dct.items() if ('d_' not in k and 'F' not in k)}\n",
    "    data[series_column_name] = _slice_series(dct, **kwargs)\n",
    "    return data"
   ]
  },
  {
   "cell_type": "code",
   "execution_count": null,
   "metadata": {},
   "outputs": [],
   "source": [
    "import orjson\n",
    "def _get_prices_dct(row):\n",
    "    return orjson.loads(open(path / 'prices' / str(row['item_id']+'_'+row['store_id'] +'.json'),'r').read())\n",
    "\n",
    "def _do_row(sales):\n",
    "    s = to_contained_series(sales)\n",
    "    for c in df_cal.columns:\n",
    "        if c is not 'd.1':\n",
    "            s[c] = list(df_cal[c])\n",
    "    p = _get_prices_dct(s)\n",
    "    f = p.pop('item_id') + '_'\n",
    "    f += p.pop('store_id')\n",
    "    s['prices'] = [o for k,o in p.items()] \n",
    "    return save_row(s, path / 'rows', fname= f)"
   ]
  },
  {
   "cell_type": "code",
   "execution_count": null,
   "metadata": {},
   "outputs": [
    {
     "data": {
      "text/plain": [
       "(57, 56)"
      ]
     },
     "execution_count": null,
     "metadata": {},
     "output_type": "execute_result"
    }
   ],
   "source": [
    "o = [0.0, 0.0, 0.0, 0.0, 0.0, 0.0, 0.0, 0.0, 0.0, 0.0, 0.0, 0.0, 0.0, 0.0, 0.0, 0.0, 0.0, 0.0, 0.0, 0.0, 0.0, 0.0, 0.0, 0.0, 0.0, 0.0, 0.0, 0.0, 0.0, 0.0, 0.0, 0.0, 0.0, 0.0, 0.0, 0.0, 0.0, 0.0, 0.0, 0.0, 0.0, 0.0, 0.0, 0.0, 0.0, 0.0, 0.0, 0.0, 0.0, 0.0, 0.0, 0.0, 0.0, 0.0, 0.0, 0.0, 0.0]\n",
    "len(o), 28*2"
   ]
  },
  {
   "cell_type": "code",
   "execution_count": null,
   "metadata": {},
   "outputs": [
    {
     "ename": "JSONDecodeError",
     "evalue": "Expecting ',' delimiter: line 20372 column 36 (char 706135)",
     "output_type": "error",
     "traceback": [
      "\u001b[0;31m---------------------------------------------------------------------------\u001b[0m",
      "\u001b[0;31mJSONDecodeError\u001b[0m                           Traceback (most recent call last)",
      "\u001b[0;32m<ipython-input-76-050a2d334e8b>\u001b[0m in \u001b[0;36m<module>\u001b[0;34m\u001b[0m\n\u001b[1;32m      1\u001b[0m \u001b[0;32mfor\u001b[0m \u001b[0mi\u001b[0m\u001b[0;34m,\u001b[0m \u001b[0msales\u001b[0m \u001b[0;32min\u001b[0m \u001b[0menumerate\u001b[0m\u001b[0;34m(\u001b[0m\u001b[0mcsv_gen\u001b[0m\u001b[0;34m(\u001b[0m\u001b[0mpath\u001b[0m \u001b[0;34m/\u001b[0m \u001b[0;34m'sales_train_validation.csv'\u001b[0m\u001b[0;34m)\u001b[0m\u001b[0;34m)\u001b[0m\u001b[0;34m:\u001b[0m\u001b[0;34m\u001b[0m\u001b[0;34m\u001b[0m\u001b[0m\n\u001b[0;32m----> 2\u001b[0;31m     \u001b[0mr\u001b[0m \u001b[0;34m=\u001b[0m \u001b[0m_do_row\u001b[0m\u001b[0;34m(\u001b[0m\u001b[0msales\u001b[0m\u001b[0;34m)\u001b[0m\u001b[0;34m\u001b[0m\u001b[0;34m\u001b[0m\u001b[0m\n\u001b[0m\u001b[1;32m      3\u001b[0m     \u001b[0;32mbreak\u001b[0m\u001b[0;34m\u001b[0m\u001b[0;34m\u001b[0m\u001b[0m\n\u001b[1;32m      4\u001b[0m \u001b[0mr\u001b[0m\u001b[0;34m\u001b[0m\u001b[0;34m\u001b[0m\u001b[0m\n",
      "\u001b[0;32m<ipython-input-69-26f83d84fadc>\u001b[0m in \u001b[0;36m_do_row\u001b[0;34m(sales)\u001b[0m\n\u001b[1;32m     12\u001b[0m     \u001b[0mf\u001b[0m \u001b[0;34m+=\u001b[0m \u001b[0mp\u001b[0m\u001b[0;34m.\u001b[0m\u001b[0mpop\u001b[0m\u001b[0;34m(\u001b[0m\u001b[0;34m'item_id'\u001b[0m\u001b[0;34m)\u001b[0m\u001b[0;34m\u001b[0m\u001b[0;34m\u001b[0m\u001b[0m\n\u001b[1;32m     13\u001b[0m     \u001b[0ms\u001b[0m\u001b[0;34m[\u001b[0m\u001b[0;34m'prices'\u001b[0m\u001b[0;34m]\u001b[0m \u001b[0;34m=\u001b[0m \u001b[0;34m[\u001b[0m\u001b[0mo\u001b[0m \u001b[0;32mfor\u001b[0m \u001b[0mk\u001b[0m\u001b[0;34m,\u001b[0m\u001b[0mo\u001b[0m \u001b[0;32min\u001b[0m \u001b[0mp\u001b[0m\u001b[0;34m.\u001b[0m\u001b[0mitems\u001b[0m\u001b[0;34m(\u001b[0m\u001b[0;34m)\u001b[0m\u001b[0;34m]\u001b[0m\u001b[0;34m\u001b[0m\u001b[0;34m\u001b[0m\u001b[0m\n\u001b[0;32m---> 14\u001b[0;31m     \u001b[0;32mreturn\u001b[0m \u001b[0msave_row\u001b[0m\u001b[0;34m(\u001b[0m\u001b[0ms\u001b[0m\u001b[0;34m,\u001b[0m \u001b[0mpath\u001b[0m \u001b[0;34m/\u001b[0m \u001b[0;34m'rows'\u001b[0m\u001b[0;34m,\u001b[0m \u001b[0mfname\u001b[0m\u001b[0;34m=\u001b[0m \u001b[0mf\u001b[0m\u001b[0;34m)\u001b[0m\u001b[0;34m\u001b[0m\u001b[0;34m\u001b[0m\u001b[0m\n\u001b[0m",
      "\u001b[0;32m~/dev/fastseq/fastseq/data/external.py\u001b[0m in \u001b[0;36msave_row\u001b[0;34m(row, path, fname, **kwargs)\u001b[0m\n\u001b[1;32m    281\u001b[0m     \u001b[0mlength\u001b[0m\u001b[0;34m,\u001b[0m \u001b[0mclasses\u001b[0m\u001b[0;34m,\u001b[0m \u001b[0mcol_names\u001b[0m\u001b[0;34m,\u001b[0m \u001b[0mnames\u001b[0m \u001b[0;34m=\u001b[0m \u001b[0mreconize_cols\u001b[0m\u001b[0;34m(\u001b[0m\u001b[0mo\u001b[0m\u001b[0;34m,\u001b[0m \u001b[0;34m**\u001b[0m\u001b[0mkwargs\u001b[0m\u001b[0;34m)\u001b[0m\u001b[0;34m\u001b[0m\u001b[0;34m\u001b[0m\u001b[0m\n\u001b[1;32m    282\u001b[0m     \u001b[0mo\u001b[0m \u001b[0;34m=\u001b[0m \u001b[0mmake_compact\u001b[0m\u001b[0;34m(\u001b[0m\u001b[0mo\u001b[0m\u001b[0;34m,\u001b[0m \u001b[0;34m*\u001b[0m\u001b[0mnames\u001b[0m\u001b[0;34m,\u001b[0m \u001b[0mlength\u001b[0m \u001b[0;34m=\u001b[0m \u001b[0mlength\u001b[0m\u001b[0;34m)\u001b[0m\u001b[0;34m\u001b[0m\u001b[0;34m\u001b[0m\u001b[0m\n\u001b[0;32m--> 283\u001b[0;31m     \u001b[0mmake_meta_file\u001b[0m\u001b[0;34m(\u001b[0m\u001b[0mpath\u001b[0m\u001b[0;34m,\u001b[0m \u001b[0mclasses\u001b[0m\u001b[0;34m=\u001b[0m\u001b[0mclasses\u001b[0m\u001b[0;34m,\u001b[0m \u001b[0mcol_names\u001b[0m \u001b[0;34m=\u001b[0m \u001b[0mcol_names\u001b[0m\u001b[0;34m)\u001b[0m\u001b[0;34m\u001b[0m\u001b[0;34m\u001b[0m\u001b[0m\n\u001b[0m\u001b[1;32m    284\u001b[0m     \u001b[0mopen\u001b[0m\u001b[0;34m(\u001b[0m\u001b[0mpath\u001b[0m \u001b[0;34m/\u001b[0m \u001b[0mfname\u001b[0m\u001b[0;34m,\u001b[0m\u001b[0;34m'wb'\u001b[0m\u001b[0;34m)\u001b[0m\u001b[0;34m.\u001b[0m\u001b[0mwrite\u001b[0m\u001b[0;34m(\u001b[0m\u001b[0morjson\u001b[0m\u001b[0;34m.\u001b[0m\u001b[0mdumps\u001b[0m\u001b[0;34m(\u001b[0m\u001b[0mo\u001b[0m\u001b[0;34m,\u001b[0m \u001b[0;34m)\u001b[0m\u001b[0;34m)\u001b[0m\u001b[0;34m\u001b[0m\u001b[0;34m\u001b[0m\u001b[0m\n\u001b[1;32m    285\u001b[0m     \u001b[0;32mreturn\u001b[0m \u001b[0mpath\u001b[0m \u001b[0;34m/\u001b[0m \u001b[0mfname\u001b[0m\u001b[0;34m\u001b[0m\u001b[0;34m\u001b[0m\u001b[0m\n",
      "\u001b[0;32m~/dev/fastseq/fastseq/data/external.py\u001b[0m in \u001b[0;36mmake_meta_file\u001b[0;34m(path, **kwargs)\u001b[0m\n\u001b[1;32m    166\u001b[0m     \u001b[0mf\u001b[0m \u001b[0;34m=\u001b[0m \u001b[0mpath\u001b[0m \u001b[0;34m/\u001b[0m \u001b[0;34m'.ts_meta'\u001b[0m\u001b[0;34m\u001b[0m\u001b[0;34m\u001b[0m\u001b[0m\n\u001b[1;32m    167\u001b[0m     \u001b[0;32mif\u001b[0m \u001b[0;34m(\u001b[0m\u001b[0mpath\u001b[0m \u001b[0;34m/\u001b[0m \u001b[0;34m'.ts_meta'\u001b[0m\u001b[0;34m)\u001b[0m\u001b[0;34m.\u001b[0m\u001b[0mexists\u001b[0m\u001b[0;34m(\u001b[0m\u001b[0;34m)\u001b[0m\u001b[0;34m:\u001b[0m\u001b[0;34m\u001b[0m\u001b[0;34m\u001b[0m\u001b[0m\n\u001b[0;32m--> 168\u001b[0;31m         \u001b[0mdct\u001b[0m \u001b[0;34m=\u001b[0m \u001b[0mjson\u001b[0m\u001b[0;34m.\u001b[0m\u001b[0mload\u001b[0m\u001b[0;34m(\u001b[0m\u001b[0mopen\u001b[0m\u001b[0;34m(\u001b[0m\u001b[0mf\u001b[0m\u001b[0;34m)\u001b[0m\u001b[0;34m)\u001b[0m\u001b[0;34m\u001b[0m\u001b[0;34m\u001b[0m\u001b[0m\n\u001b[0m\u001b[1;32m    169\u001b[0m     \u001b[0;32mfor\u001b[0m \u001b[0mk\u001b[0m\u001b[0;34m,\u001b[0m\u001b[0mv\u001b[0m \u001b[0;32min\u001b[0m \u001b[0mkwargs\u001b[0m\u001b[0;34m.\u001b[0m\u001b[0mitems\u001b[0m\u001b[0;34m(\u001b[0m\u001b[0;34m)\u001b[0m\u001b[0;34m:\u001b[0m\u001b[0;34m\u001b[0m\u001b[0;34m\u001b[0m\u001b[0m\n\u001b[1;32m    170\u001b[0m         \u001b[0mdct\u001b[0m \u001b[0;34m=\u001b[0m \u001b[0madd_dct\u001b[0m\u001b[0;34m(\u001b[0m\u001b[0mdct\u001b[0m\u001b[0;34m,\u001b[0m\u001b[0mk\u001b[0m\u001b[0;34m,\u001b[0m\u001b[0mv\u001b[0m\u001b[0;34m)\u001b[0m\u001b[0;34m\u001b[0m\u001b[0;34m\u001b[0m\u001b[0m\n",
      "\u001b[0;32m/usr/local/lib/python3.7/json/__init__.py\u001b[0m in \u001b[0;36mload\u001b[0;34m(fp, cls, object_hook, parse_float, parse_int, parse_constant, object_pairs_hook, **kw)\u001b[0m\n\u001b[1;32m    294\u001b[0m         \u001b[0mcls\u001b[0m\u001b[0;34m=\u001b[0m\u001b[0mcls\u001b[0m\u001b[0;34m,\u001b[0m \u001b[0mobject_hook\u001b[0m\u001b[0;34m=\u001b[0m\u001b[0mobject_hook\u001b[0m\u001b[0;34m,\u001b[0m\u001b[0;34m\u001b[0m\u001b[0;34m\u001b[0m\u001b[0m\n\u001b[1;32m    295\u001b[0m         \u001b[0mparse_float\u001b[0m\u001b[0;34m=\u001b[0m\u001b[0mparse_float\u001b[0m\u001b[0;34m,\u001b[0m \u001b[0mparse_int\u001b[0m\u001b[0;34m=\u001b[0m\u001b[0mparse_int\u001b[0m\u001b[0;34m,\u001b[0m\u001b[0;34m\u001b[0m\u001b[0;34m\u001b[0m\u001b[0m\n\u001b[0;32m--> 296\u001b[0;31m         parse_constant=parse_constant, object_pairs_hook=object_pairs_hook, **kw)\n\u001b[0m\u001b[1;32m    297\u001b[0m \u001b[0;34m\u001b[0m\u001b[0m\n\u001b[1;32m    298\u001b[0m \u001b[0;34m\u001b[0m\u001b[0m\n",
      "\u001b[0;32m/usr/local/lib/python3.7/json/__init__.py\u001b[0m in \u001b[0;36mloads\u001b[0;34m(s, encoding, cls, object_hook, parse_float, parse_int, parse_constant, object_pairs_hook, **kw)\u001b[0m\n\u001b[1;32m    346\u001b[0m             \u001b[0mparse_int\u001b[0m \u001b[0;32mis\u001b[0m \u001b[0;32mNone\u001b[0m \u001b[0;32mand\u001b[0m \u001b[0mparse_float\u001b[0m \u001b[0;32mis\u001b[0m \u001b[0;32mNone\u001b[0m \u001b[0;32mand\u001b[0m\u001b[0;34m\u001b[0m\u001b[0;34m\u001b[0m\u001b[0m\n\u001b[1;32m    347\u001b[0m             parse_constant is None and object_pairs_hook is None and not kw):\n\u001b[0;32m--> 348\u001b[0;31m         \u001b[0;32mreturn\u001b[0m \u001b[0m_default_decoder\u001b[0m\u001b[0;34m.\u001b[0m\u001b[0mdecode\u001b[0m\u001b[0;34m(\u001b[0m\u001b[0ms\u001b[0m\u001b[0;34m)\u001b[0m\u001b[0;34m\u001b[0m\u001b[0;34m\u001b[0m\u001b[0m\n\u001b[0m\u001b[1;32m    349\u001b[0m     \u001b[0;32mif\u001b[0m \u001b[0mcls\u001b[0m \u001b[0;32mis\u001b[0m \u001b[0;32mNone\u001b[0m\u001b[0;34m:\u001b[0m\u001b[0;34m\u001b[0m\u001b[0;34m\u001b[0m\u001b[0m\n\u001b[1;32m    350\u001b[0m         \u001b[0mcls\u001b[0m \u001b[0;34m=\u001b[0m \u001b[0mJSONDecoder\u001b[0m\u001b[0;34m\u001b[0m\u001b[0;34m\u001b[0m\u001b[0m\n",
      "\u001b[0;32m/usr/local/lib/python3.7/json/decoder.py\u001b[0m in \u001b[0;36mdecode\u001b[0;34m(self, s, _w)\u001b[0m\n\u001b[1;32m    335\u001b[0m \u001b[0;34m\u001b[0m\u001b[0m\n\u001b[1;32m    336\u001b[0m         \"\"\"\n\u001b[0;32m--> 337\u001b[0;31m         \u001b[0mobj\u001b[0m\u001b[0;34m,\u001b[0m \u001b[0mend\u001b[0m \u001b[0;34m=\u001b[0m \u001b[0mself\u001b[0m\u001b[0;34m.\u001b[0m\u001b[0mraw_decode\u001b[0m\u001b[0;34m(\u001b[0m\u001b[0ms\u001b[0m\u001b[0;34m,\u001b[0m \u001b[0midx\u001b[0m\u001b[0;34m=\u001b[0m\u001b[0m_w\u001b[0m\u001b[0;34m(\u001b[0m\u001b[0ms\u001b[0m\u001b[0;34m,\u001b[0m \u001b[0;36m0\u001b[0m\u001b[0;34m)\u001b[0m\u001b[0;34m.\u001b[0m\u001b[0mend\u001b[0m\u001b[0;34m(\u001b[0m\u001b[0;34m)\u001b[0m\u001b[0;34m)\u001b[0m\u001b[0;34m\u001b[0m\u001b[0;34m\u001b[0m\u001b[0m\n\u001b[0m\u001b[1;32m    338\u001b[0m         \u001b[0mend\u001b[0m \u001b[0;34m=\u001b[0m \u001b[0m_w\u001b[0m\u001b[0;34m(\u001b[0m\u001b[0ms\u001b[0m\u001b[0;34m,\u001b[0m \u001b[0mend\u001b[0m\u001b[0;34m)\u001b[0m\u001b[0;34m.\u001b[0m\u001b[0mend\u001b[0m\u001b[0;34m(\u001b[0m\u001b[0;34m)\u001b[0m\u001b[0;34m\u001b[0m\u001b[0;34m\u001b[0m\u001b[0m\n\u001b[1;32m    339\u001b[0m         \u001b[0;32mif\u001b[0m \u001b[0mend\u001b[0m \u001b[0;34m!=\u001b[0m \u001b[0mlen\u001b[0m\u001b[0;34m(\u001b[0m\u001b[0ms\u001b[0m\u001b[0;34m)\u001b[0m\u001b[0;34m:\u001b[0m\u001b[0;34m\u001b[0m\u001b[0;34m\u001b[0m\u001b[0m\n",
      "\u001b[0;32m/usr/local/lib/python3.7/json/decoder.py\u001b[0m in \u001b[0;36mraw_decode\u001b[0;34m(self, s, idx)\u001b[0m\n\u001b[1;32m    351\u001b[0m         \"\"\"\n\u001b[1;32m    352\u001b[0m         \u001b[0;32mtry\u001b[0m\u001b[0;34m:\u001b[0m\u001b[0;34m\u001b[0m\u001b[0;34m\u001b[0m\u001b[0m\n\u001b[0;32m--> 353\u001b[0;31m             \u001b[0mobj\u001b[0m\u001b[0;34m,\u001b[0m \u001b[0mend\u001b[0m \u001b[0;34m=\u001b[0m \u001b[0mself\u001b[0m\u001b[0;34m.\u001b[0m\u001b[0mscan_once\u001b[0m\u001b[0;34m(\u001b[0m\u001b[0ms\u001b[0m\u001b[0;34m,\u001b[0m \u001b[0midx\u001b[0m\u001b[0;34m)\u001b[0m\u001b[0;34m\u001b[0m\u001b[0;34m\u001b[0m\u001b[0m\n\u001b[0m\u001b[1;32m    354\u001b[0m         \u001b[0;32mexcept\u001b[0m \u001b[0mStopIteration\u001b[0m \u001b[0;32mas\u001b[0m \u001b[0merr\u001b[0m\u001b[0;34m:\u001b[0m\u001b[0;34m\u001b[0m\u001b[0;34m\u001b[0m\u001b[0m\n\u001b[1;32m    355\u001b[0m             \u001b[0;32mraise\u001b[0m \u001b[0mJSONDecodeError\u001b[0m\u001b[0;34m(\u001b[0m\u001b[0;34m\"Expecting value\"\u001b[0m\u001b[0;34m,\u001b[0m \u001b[0ms\u001b[0m\u001b[0;34m,\u001b[0m \u001b[0merr\u001b[0m\u001b[0;34m.\u001b[0m\u001b[0mvalue\u001b[0m\u001b[0;34m)\u001b[0m \u001b[0;32mfrom\u001b[0m \u001b[0;32mNone\u001b[0m\u001b[0;34m\u001b[0m\u001b[0;34m\u001b[0m\u001b[0m\n",
      "\u001b[0;31mJSONDecodeError\u001b[0m: Expecting ',' delimiter: line 20372 column 36 (char 706135)"
     ]
    }
   ],
   "source": [
    "for i, sales in enumerate(csv_gen(path / 'sales_train_validation.csv')):\n",
    "    r = _do_row(sales)\n",
    "    break\n",
    "r"
   ]
  },
  {
   "cell_type": "code",
   "execution_count": null,
   "metadata": {},
   "outputs": [],
   "source": [
    "import time"
   ]
  },
  {
   "cell_type": "code",
   "execution_count": null,
   "metadata": {},
   "outputs": [
    {
     "name": "stdout",
     "output_type": "stream",
     "text": [
      "100 / 30 000  3.0 981.0\n",
      "200 / 30 000  6.0 961.0\n",
      "300 / 30 000  10.0 956.0\n",
      "400 / 30 000  13.0 964.0\n",
      "500 / 30 000  16.0 974.0\n",
      "600 / 30 000  20.0 980.0\n",
      "700 / 30 000  23.0 1000.0\n",
      "800 / 30 000  27.0 1002.0\n",
      "900 / 30 000  30.0 1003.0\n",
      "1000 / 30 000  33.0 1004.0\n",
      "1100 / 30 000  37.0 1015.0\n",
      "1200 / 30 000  41.0 1016.0\n",
      "1300 / 30 000  44.0 1021.0\n",
      "1400 / 30 000  48.0 1025.0\n",
      "1500 / 30 000  51.0 1028.0\n",
      "1600 / 30 000  55.0 1031.0\n",
      "1700 / 30 000  59.0 1036.0\n",
      "1800 / 30 000  62.0 1039.0\n",
      "1900 / 30 000  66.0 1043.0\n",
      "2000 / 30 000  70.0 1048.0\n",
      "2100 / 30 000  74.0 1053.0\n",
      "2200 / 30 000  77.0 1056.0\n",
      "2300 / 30 000  81.0 1060.0\n",
      "2400 / 30 000  85.0 1064.0\n",
      "2500 / 30 000  89.0 1070.0\n",
      "2600 / 30 000  93.0 1077.0\n",
      "2700 / 30 000  98.0 1084.0\n",
      "2800 / 30 000  102.0 1093.0\n",
      "2900 / 30 000  107.0 1103.0\n",
      "3000 / 30 000  111.0 1111.0\n",
      "3100 / 30 000  116.0 1120.0\n",
      "3200 / 30 000  120.0 1126.0\n",
      "3300 / 30 000  124.0 1131.0\n",
      "3400 / 30 000  129.0 1136.0\n",
      "3500 / 30 000  133.0 1142.0\n",
      "3600 / 30 000  138.0 1147.0\n",
      "3700 / 30 000  142.0 1153.0\n",
      "3800 / 30 000  147.0 1158.0\n",
      "3900 / 30 000  151.0 1163.0\n",
      "4000 / 30 000  156.0 1169.0\n",
      "4100 / 30 000  161.0 1175.0\n",
      "4200 / 30 000  165.0 1181.0\n",
      "4300 / 30 000  170.0 1185.0\n",
      "4400 / 30 000  174.0 1189.0\n",
      "4500 / 30 000  179.0 1195.0\n",
      "4600 / 30 000  184.0 1199.0\n",
      "4700 / 30 000  189.0 1203.0\n",
      "4800 / 30 000  193.0 1207.0\n",
      "4900 / 30 000  198.0 1211.0\n",
      "5000 / 30 000  203.0 1215.0\n",
      "5100 / 30 000  208.0 1221.0\n",
      "5200 / 30 000  212.0 1224.0\n",
      "5300 / 30 000  217.0 1228.0\n",
      "5400 / 30 000  222.0 1233.0\n",
      "5500 / 30 000  227.0 1237.0\n",
      "5600 / 30 000  232.0 1241.0\n",
      "5700 / 30 000  237.0 1247.0\n",
      "5800 / 30 000  242.0 1252.0\n",
      "5900 / 30 000  247.0 1256.0\n",
      "6000 / 30 000  252.0 1262.0\n",
      "6100 / 30 000  257.0 1266.0\n",
      "6200 / 30 000  262.0 1270.0\n",
      "6300 / 30 000  268.0 1274.0\n",
      "6400 / 30 000  273.0 1278.0\n",
      "6500 / 30 000  278.0 1282.0\n",
      "6600 / 30 000  283.0 1286.0\n",
      "6700 / 30 000  288.0 1291.0\n",
      "6800 / 30 000  293.0 1294.0\n",
      "6900 / 30 000  299.0 1298.0\n",
      "7000 / 30 000  304.0 1303.0\n",
      "7100 / 30 000  309.0 1307.0\n",
      "7200 / 30 000  315.0 1311.0\n",
      "7300 / 30 000  320.0 1316.0\n",
      "7400 / 30 000  326.0 1320.0\n",
      "7500 / 30 000  331.0 1324.0\n",
      "7600 / 30 000  337.0 1329.0\n",
      "7700 / 30 000  342.0 1333.0\n",
      "7800 / 30 000  348.0 1338.0\n",
      "7900 / 30 000  354.0 1342.0\n",
      "8000 / 30 000  359.0 1348.0\n",
      "8100 / 30 000  365.0 1353.0\n",
      "8200 / 30 000  371.0 1358.0\n",
      "8300 / 30 000  377.0 1364.0\n",
      "8400 / 30 000  384.0 1370.0\n",
      "8500 / 30 000  390.0 1375.0\n",
      "8600 / 30 000  396.0 1381.0\n",
      "8700 / 30 000  402.0 1386.0\n",
      "8800 / 30 000  408.0 1392.0\n",
      "8900 / 30 000  415.0 1397.0\n",
      "9000 / 30 000  421.0 1403.0\n",
      "9100 / 30 000  427.0 1408.0\n",
      "9200 / 30 000  433.0 1413.0\n",
      "9300 / 30 000  440.0 1418.0\n",
      "9400 / 30 000  446.0 1422.0\n",
      "9500 / 30 000  452.0 1427.0\n",
      "9600 / 30 000  458.0 1431.0\n",
      "9700 / 30 000  464.0 1435.0\n",
      "9800 / 30 000  470.0 1439.0\n",
      "9900 / 30 000  476.0 1443.0\n",
      "10000 / 30 000  482.0 1447.0\n",
      "10100 / 30 000  489.0 1451.0\n",
      "10200 / 30 000  495.0 1455.0\n",
      "10300 / 30 000  501.0 1460.0\n",
      "10400 / 30 000  507.0 1464.0\n",
      "10500 / 30 000  514.0 1468.0\n",
      "10600 / 30 000  520.0 1472.0\n",
      "10700 / 30 000  527.0 1477.0\n",
      "10800 / 30 000  533.0 1481.0\n",
      "10900 / 30 000  540.0 1485.0\n",
      "11000 / 30 000  546.0 1489.0\n",
      "11100 / 30 000  553.0 1493.0\n",
      "11200 / 30 000  559.0 1498.0\n",
      "11300 / 30 000  566.0 1502.0\n",
      "11400 / 30 000  572.0 1506.0\n",
      "11500 / 30 000  579.0 1511.0\n",
      "11600 / 30 000  586.0 1516.0\n",
      "11700 / 30 000  594.0 1522.0\n",
      "11800 / 30 000  601.0 1528.0\n",
      "11900 / 30 000  608.0 1534.0\n",
      "12000 / 30 000  616.0 1539.0\n",
      "12100 / 30 000  623.0 1544.0\n",
      "12200 / 30 000  630.0 1550.0\n",
      "12300 / 30 000  638.0 1555.0\n",
      "12400 / 30 000  645.0 1560.0\n",
      "12500 / 30 000  652.0 1566.0\n",
      "12600 / 30 000  660.0 1571.0\n",
      "12700 / 30 000  667.0 1576.0\n",
      "12800 / 30 000  675.0 1581.0\n",
      "12900 / 30 000  682.0 1587.0\n",
      "13000 / 30 000  690.0 1592.0\n",
      "13100 / 30 000  697.0 1597.0\n",
      "13200 / 30 000  705.0 1602.0\n",
      "13300 / 30 000  712.0 1607.0\n",
      "13400 / 30 000  720.0 1612.0\n",
      "13500 / 30 000  728.0 1617.0\n",
      "13600 / 30 000  735.0 1622.0\n",
      "13700 / 30 000  743.0 1627.0\n",
      "13800 / 30 000  751.0 1632.0\n",
      "13900 / 30 000  758.0 1636.0\n",
      "14000 / 30 000  765.0 1639.0\n",
      "14100 / 30 000  772.0 1643.0\n",
      "14200 / 30 000  779.0 1646.0\n",
      "14300 / 30 000  786.0 1650.0\n",
      "14400 / 30 000  793.0 1653.0\n",
      "14500 / 30 000  801.0 1657.0\n",
      "14600 / 30 000  808.0 1660.0\n",
      "14700 / 30 000  815.0 1664.0\n",
      "14800 / 30 000  823.0 1669.0\n",
      "14900 / 30 000  832.0 1674.0\n",
      "15000 / 30 000  840.0 1680.0\n",
      "15100 / 30 000  848.0 1685.0\n",
      "15200 / 30 000  856.0 1690.0\n",
      "15300 / 30 000  865.0 1696.0\n",
      "15400 / 30 000  873.0 1701.0\n",
      "15500 / 30 000  882.0 1707.0\n",
      "15600 / 30 000  890.0 1712.0\n",
      "15700 / 30 000  898.0 1716.0\n",
      "15800 / 30 000  906.0 1720.0\n",
      "15900 / 30 000  914.0 1724.0\n",
      "16000 / 30 000  922.0 1728.0\n",
      "16100 / 30 000  929.0 1732.0\n",
      "16200 / 30 000  937.0 1735.0\n",
      "16300 / 30 000  945.0 1739.0\n",
      "16400 / 30 000  953.0 1743.0\n",
      "16500 / 30 000  961.0 1747.0\n",
      "16600 / 30 000  969.0 1751.0\n",
      "16700 / 30 000  977.0 1755.0\n",
      "16800 / 30 000  985.0 1759.0\n",
      "16900 / 30 000  993.0 1762.0\n",
      "17000 / 30 000  1001.0 1766.0\n",
      "17100 / 30 000  1009.0 1770.0\n",
      "17200 / 30 000  1017.0 1774.0\n",
      "17300 / 30 000  1025.0 1778.0\n",
      "17400 / 30 000  1033.0 1781.0\n",
      "17500 / 30 000  1041.0 1785.0\n",
      "17600 / 30 000  1050.0 1789.0\n",
      "17700 / 30 000  1058.0 1793.0\n",
      "17800 / 30 000  1066.0 1797.0\n",
      "17900 / 30 000  1074.0 1801.0\n",
      "18000 / 30 000  1083.0 1805.0\n",
      "18100 / 30 000  1092.0 1809.0\n",
      "18200 / 30 000  1101.0 1814.0\n",
      "18300 / 30 000  1110.0 1819.0\n",
      "18400 / 30 000  1119.0 1824.0\n",
      "18500 / 30 000  1128.0 1829.0\n",
      "18600 / 30 000  1137.0 1834.0\n",
      "18700 / 30 000  1146.0 1839.0\n",
      "18800 / 30 000  1155.0 1844.0\n",
      "18900 / 30 000  1165.0 1849.0\n",
      "19000 / 30 000  1174.0 1854.0\n",
      "19100 / 30 000  1184.0 1860.0\n",
      "19200 / 30 000  1193.0 1865.0\n",
      "19300 / 30 000  1203.0 1870.0\n",
      "19400 / 30 000  1212.0 1875.0\n",
      "19500 / 30 000  1222.0 1880.0\n",
      "19600 / 30 000  1232.0 1885.0\n",
      "19700 / 30 000  1242.0 1891.0\n",
      "19800 / 30 000  1251.0 1896.0\n",
      "19900 / 30 000  1261.0 1901.0\n",
      "20000 / 30 000  1271.0 1906.0\n",
      "20100 / 30 000  1281.0 1912.0\n",
      "20200 / 30 000  1291.0 1917.0\n",
      "20300 / 30 000  1301.0 1922.0\n",
      "20400 / 30 000  1310.0 1927.0\n",
      "20500 / 30 000  1320.0 1932.0\n",
      "20600 / 30 000  1330.0 1937.0\n",
      "20700 / 30 000  1340.0 1942.0\n",
      "20800 / 30 000  1350.0 1947.0\n",
      "20900 / 30 000  1361.0 1953.0\n",
      "21000 / 30 000  1371.0 1959.0\n",
      "21100 / 30 000  1381.0 1964.0\n",
      "21200 / 30 000  1392.0 1970.0\n",
      "21300 / 30 000  1402.0 1975.0\n",
      "21400 / 30 000  1413.0 1981.0\n",
      "21500 / 30 000  1423.0 1986.0\n",
      "21600 / 30 000  1434.0 1991.0\n",
      "21700 / 30 000  1444.0 1997.0\n",
      "21800 / 30 000  1455.0 2003.0\n",
      "21900 / 30 000  1466.0 2008.0\n",
      "22000 / 30 000  1477.0 2014.0\n",
      "22100 / 30 000  1488.0 2020.0\n",
      "22200 / 30 000  1499.0 2026.0\n",
      "22300 / 30 000  1510.0 2031.0\n",
      "22400 / 30 000  1521.0 2037.0\n",
      "22500 / 30 000  1532.0 2043.0\n",
      "22600 / 30 000  1543.0 2048.0\n",
      "22700 / 30 000  1554.0 2054.0\n",
      "22800 / 30 000  1565.0 2059.0\n",
      "22900 / 30 000  1576.0 2065.0\n",
      "23000 / 30 000  1588.0 2071.0\n",
      "23100 / 30 000  1599.0 2077.0\n",
      "23200 / 30 000  1611.0 2083.0\n",
      "23300 / 30 000  1623.0 2089.0\n",
      "23400 / 30 000  1634.0 2095.0\n",
      "23500 / 30 000  1646.0 2101.0\n",
      "23600 / 30 000  1658.0 2108.0\n",
      "23700 / 30 000  1670.0 2113.0\n",
      "23800 / 30 000  1681.0 2119.0\n",
      "23900 / 30 000  1693.0 2125.0\n",
      "24000 / 30 000  1704.0 2130.0\n",
      "24100 / 30 000  1716.0 2136.0\n",
      "24200 / 30 000  1728.0 2142.0\n",
      "24300 / 30 000  1740.0 2148.0\n",
      "24400 / 30 000  1752.0 2154.0\n",
      "24500 / 30 000  1764.0 2160.0\n",
      "24600 / 30 000  1777.0 2167.0\n",
      "24700 / 30 000  1789.0 2173.0\n",
      "24800 / 30 000  1801.0 2179.0\n",
      "24900 / 30 000  1813.0 2185.0\n",
      "25000 / 30 000  1826.0 2191.0\n",
      "25100 / 30 000  1838.0 2197.0\n",
      "25200 / 30 000  1850.0 2203.0\n",
      "25300 / 30 000  1863.0 2209.0\n",
      "25400 / 30 000  1875.0 2215.0\n",
      "25500 / 30 000  1888.0 2221.0\n",
      "25600 / 30 000  1900.0 2227.0\n",
      "25700 / 30 000  1913.0 2233.0\n",
      "25800 / 30 000  1926.0 2239.0\n",
      "25900 / 30 000  1939.0 2245.0\n",
      "26000 / 30 000  1951.0 2252.0\n",
      "26100 / 30 000  1964.0 2258.0\n",
      "26200 / 30 000  1977.0 2264.0\n",
      "26300 / 30 000  1990.0 2270.0\n",
      "26400 / 30 000  2003.0 2277.0\n",
      "26500 / 30 000  2016.0 2283.0\n",
      "26600 / 30 000  2029.0 2289.0\n",
      "26700 / 30 000  2042.0 2295.0\n",
      "26800 / 30 000  2055.0 2301.0\n",
      "26900 / 30 000  2068.0 2307.0\n",
      "27000 / 30 000  2081.0 2312.0\n",
      "27100 / 30 000  2094.0 2318.0\n",
      "27200 / 30 000  2107.0 2324.0\n",
      "27300 / 30 000  2119.0 2329.0\n",
      "27400 / 30 000  2132.0 2335.0\n",
      "27500 / 30 000  2145.0 2340.0\n",
      "27600 / 30 000  2158.0 2346.0\n",
      "27700 / 30 000  2170.0 2351.0\n",
      "27800 / 30 000  2183.0 2356.0\n",
      "27900 / 30 000  2196.0 2362.0\n",
      "28000 / 30 000  2209.0 2367.0\n",
      "28100 / 30 000  2222.0 2373.0\n",
      "28200 / 30 000  2236.0 2378.0\n",
      "28300 / 30 000  2249.0 2384.0\n",
      "28400 / 30 000  2262.0 2389.0\n",
      "28500 / 30 000  2275.0 2395.0\n",
      "28600 / 30 000  2288.0 2400.0\n",
      "28700 / 30 000  2302.0 2406.0\n",
      "28800 / 30 000  2315.0 2411.0\n",
      "28900 / 30 000  2328.0 2417.0\n",
      "29000 / 30 000  2341.0 2422.0\n",
      "29100 / 30 000  2355.0 2427.0\n",
      "29200 / 30 000  2368.0 2433.0\n",
      "29300 / 30 000  2381.0 2438.0\n",
      "29400 / 30 000  2395.0 2444.0\n",
      "29500 / 30 000  2408.0 2449.0\n",
      "29600 / 30 000  2422.0 2455.0\n",
      "29700 / 30 000  2436.0 2460.0\n",
      "29800 / 30 000  2449.0 2466.0\n",
      "29900 / 30 000  2463.0 2471.0\n",
      "30000 / 30 000  2477.0 2477.0\n",
      "30100 / 30 000  2491.0 2483.0\n",
      "30200 / 30 000  2505.0 2488.0\n",
      "30300 / 30 000  2519.0 2494.0\n",
      "30400 / 30 000  2533.0 2500.0\n",
      "CPU times: user 41min 38s, sys: 41.3 s, total: 42min 19s\n",
      "Wall time: 42min 25s\n"
     ]
    }
   ],
   "source": [
    "%%time\n",
    "st = time.time()\n",
    "for i, sales in enumerate(csv_gen(path / 'sales_train_validation.csv')):\n",
    "    r = _do_row(sales)\n",
    "    if i%100 == 0 and i != 0:  \n",
    "        d = time.time()-st\n",
    "        print(f\"{i} / 30 000 \",np.round(d),np.round(((d/i)*30000)))"
   ]
  },
  {
   "cell_type": "code",
   "execution_count": 9,
   "metadata": {},
   "outputs": [],
   "source": [
    "def _copy(self, target):\n",
    "    import shutil\n",
    "    assert self.is_file()\n",
    "    shutil.copy(str(self), str(target))  # str() only there for Python < (3, 6)\n",
    "\n",
    "Path.copy = _copy"
   ]
  },
  {
   "cell_type": "code",
   "execution_count": null,
   "metadata": {},
   "outputs": [],
   "source": [
    "for i, f in enumerate(Path('../data/m5/rows').glob('*.json')):\n",
    "    ts = get_ts_datapoint(f)\n",
    "    assert np.mean(ts['ts_con']['sales'][-(28*2):]) == 0.\n",
    "    if i == 4000:\n",
    "        break"
   ]
  },
  {
   "cell_type": "code",
   "execution_count": null,
   "metadata": {},
   "outputs": [
    {
     "data": {
      "text/plain": [
       "Path('../data/m5/rows/FOODS_2_155_WI_2.json')"
      ]
     },
     "execution_count": null,
     "metadata": {},
     "output_type": "execute_result"
    }
   ],
   "source": [
    "list(Path('../data/m5/rows').glob('*.json'))[0]"
   ]
  },
  {
   "cell_type": "code",
   "execution_count": 13,
   "metadata": {},
   "outputs": [
    {
     "data": {
      "text/plain": [
       "599"
      ]
     },
     "execution_count": 13,
     "metadata": {},
     "output_type": "execute_result"
    }
   ],
   "source": [
    "# f = list(Path('../data/m5/rows').glob('.ts_meta'))[0]\n",
    "# f.copy(str(f).replace('m5','m5_tiny'))\n",
    "n = 0\n",
    "\n",
    "for f in Path('../data/m5/rows').glob('FOODS_2_1*_CA_*.json'):\n",
    "    f.copy(str(f).replace('m5','m5_tiny'))\n",
    "    n+=1    \n",
    "for f in Path('../data/m5/rows').glob('FOODS_2_1*_TX_3.json'):\n",
    "    f.copy(str(f).replace('m5','m5_tiny'))\n",
    "    n+=1   \n",
    "for f in Path('../data/m5/rows').glob('HOUSEHOLD_2_1*_WI_3.json'):\n",
    "    f.copy(str(f).replace('m5','m5_tiny'))\n",
    "    n+=1   \n",
    "n"
   ]
  },
  {
   "cell_type": "code",
   "execution_count": null,
   "metadata": {},
   "outputs": [
    {
     "name": "stdout",
     "output_type": "stream",
     "text": [
      "Converted 00_core.ipynb.\n",
      "Converted 01_data.external.ipynb.\n",
      "Converted 02_data.load.ipynb.\n",
      "Converted 03_data.core.ipynb.\n",
      "Converted 03_m5.ipynb.\n",
      "Converted 050_nbeats.models_multi.ipynb.\n",
      "Converted 05_nbeats.models.ipynb.\n",
      "Converted 06_nbeats.callbacks.ipynb.\n",
      "Converted 07_nbeats.learner.ipynb.\n",
      "Converted 08_nbeats.interpret.ipynb.\n",
      "Converted 11_metrics.ipynb.\n",
      "Converted 12_compare.ipynb.\n",
      "Converted index.ipynb.\n",
      "Converted tab.model.ipynb.\n"
     ]
    }
   ],
   "source": [
    "# hide\n",
    "from nbdev.export import *\n",
    "\n",
    "notebook2script()"
   ]
  },
  {
   "cell_type": "code",
   "execution_count": null,
   "metadata": {},
   "outputs": [],
   "source": []
  },
  {
   "cell_type": "code",
   "execution_count": null,
   "metadata": {},
   "outputs": [],
   "source": []
  }
 ],
 "metadata": {
  "kernelspec": {
   "display_name": "env37",
   "language": "python",
   "name": "env37"
  },
  "language_info": {
   "codemirror_mode": {
    "name": "ipython",
    "version": 3
   },
   "file_extension": ".py",
   "mimetype": "text/x-python",
   "name": "python",
   "nbconvert_exporter": "python",
   "pygments_lexer": "ipython3",
   "version": "3.7.4"
  }
 },
 "nbformat": 4,
 "nbformat_minor": 4
}
