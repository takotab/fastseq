{
 "cells": [
  {
   "cell_type": "code",
   "execution_count": null,
   "metadata": {},
   "outputs": [],
   "source": [
    "# default_exp models.cnn.transfroms"
   ]
  },
  {
   "cell_type": "code",
   "execution_count": null,
   "metadata": {},
   "outputs": [
    {
     "name": "stderr",
     "output_type": "stream",
     "text": [
      "/home/tako/dev/env37/lib/python3.7/site-packages/pandas/compat/__init__.py:85: UserWarning: Could not import the lzma module. Your installed Python is incomplete. Attempting to use lzma compression will result in a RuntimeError.\n",
      "  warnings.warn(msg)\n"
     ]
    }
   ],
   "source": [
    "#export\n",
    "from fastai.torch_basics import *\n",
    "from fastai.data.all import *\n",
    "# from pyts.image import GramianAngularField, MarkovTransitionField, RecurrencePlot"
   ]
  },
  {
   "cell_type": "code",
   "execution_count": null,
   "metadata": {},
   "outputs": [],
   "source": [
    "from nbdev.showdoc import *"
   ]
  },
  {
   "cell_type": "markdown",
   "metadata": {},
   "source": [
    "# CNN Transforms\n",
    "\n",
    "> CNN transformation function to process time-series.\n",
    "\n",
    "using: <https://github.com/johannfaouzi/pyts/>\n",
    "\n",
    "TODO"
   ]
  },
  {
   "cell_type": "code",
   "execution_count": null,
   "metadata": {},
   "outputs": [],
   "source": [
    "# export\n",
    "def prep_data(cmap='rainbow', method='GASF', image_size=224):\n",
    "    for phase in ['TRAIN','TEST']:\n",
    "        if graph:\n",
    "            graph_ts(ts)\n",
    "        labels = df.target.unique()\n",
    "        if method == 'GAF':\n",
    "            transformer = GASF(image_size=image_size)\n",
    "        elif method == 'MTF':\n",
    "            transformer = MTF(image_size=image_size)\n",
    "        elif method == 'RP':\n",
    "            transformer = RecurrencePlots(dimension=1, epsilon=None, percentage=10)\n",
    "        else:\n",
    "            method = 'Unaltered'\n",
    "        method_path = path/f'{method}'\n",
    "        method_path.mkdir(exist_ok=True)\n",
    "        phase_path = method_path/f'{phase}'\n",
    "        phase_path.mkdir(exist_ok=True)\n",
    "        if method != 'Unaltered':\n",
    "            image_data = transformer.fit_transform(df[df.columns[:-1]])\n",
    "            image_data = resize(image_data, (image_data.shape[0],image_size,image_size))\n",
    "            for label in labels:\n",
    "                label_path = phase_path/f'{label}'\n",
    "                label_path.mkdir(exist_ok=True)\n",
    "                sub_df = df[df.target == label]\n",
    "                idxs = sub_df.index\n",
    "                for idx in idxs:\n",
    "                    plt.imsave(label_path/f'{idx}.png', image_data[idx], cmap=cmap)\n",
    "    return None"
   ]
  },
  {
   "cell_type": "code",
   "execution_count": null,
   "metadata": {},
   "outputs": [
    {
     "name": "stdout",
     "output_type": "stream",
     "text": [
      "Converted 00_core.ipynb.\n",
      "Converted 01_data.external.ipynb.\n",
      "Converted 03_data.load.ipynb.\n",
      "Converted 04_data.transforms.ipynb.\n",
      "Converted 05_models.wavenet.ipynb.\n",
      "Converted 06_models.dnn.ipynb.\n",
      "Converted 07_interpret.ipynb.\n",
      "Converted 08_metrics.ipynb.\n",
      "Converted 09_learner.ipynb.\n",
      "Converted 10_models.nbeats.ipynb.\n",
      "Converted 20_models.cnn.learner.ipynb.\n",
      "Converted 21_models.cnn.transforms.ipynb.\n",
      "Converted index.ipynb.\n"
     ]
    }
   ],
   "source": [
    "#hide\n",
    "from nbdev.export import notebook2script\n",
    "notebook2script()"
   ]
  },
  {
   "cell_type": "code",
   "execution_count": null,
   "metadata": {},
   "outputs": [],
   "source": []
  },
  {
   "cell_type": "code",
   "execution_count": null,
   "metadata": {},
   "outputs": [],
   "source": []
  }
 ],
 "metadata": {
  "kernelspec": {
   "display_name": "env37",
   "language": "python",
   "name": "env37"
  }
 },
 "nbformat": 4,
 "nbformat_minor": 4
}
